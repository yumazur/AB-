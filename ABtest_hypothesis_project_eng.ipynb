{
 "cells": [
  {
   "cell_type": "markdown",
   "id": "9be1f26f",
   "metadata": {},
   "source": [
    "## Project: A/B Testing, Hypothesis Prioritization\n",
    "\n",
    "**Client:** Online Store\n",
    "\n",
    "**Objective:** Prioritize hypotheses, launch A/B test, and analyze results.\n",
    "\n",
    "**Research Object:** Final data from the conducted experiment on the online store website.\n",
    "\n",
    "**Data for Analysis:** Information about hypotheses for prioritization, information about online store visitors, and the quantity and volume of their purchases.\n",
    "\n",
    "**Research Process:**\n",
    "\n",
    "- Data preprocessing;\n",
    "- Prioritization of hypotheses using the ICE and RICE methods;\n",
    "- Comparison of cumulative revenue between groups;\n",
    "- Comparison of cumulative average order value;\n",
    "- Graph depicting the relative change in cumulative average order value of Group B compared to Group A;\n",
    "- Comparison of cumulative average number of orders per visitor;\n",
    "- Graph depicting the relative change in cumulative average number of orders per visitor of Group B compared to Group A;\n",
    "- Testing the statistical significance of differences in average order value;\n",
    "- Testing the statistical significance of differences in average number of orders per visitor.\n",
    "\n",
    "**Analysis Results:**\n",
    "\n",
    "1. Hypothesis Prioritization.\n",
    "   It is recommended to base the prioritization of hypotheses on the RICE method results. \n",
    "\n",
    "The top three hypotheses are:\n",
    "\n",
    "- Add a subscription form to all main pages to collect customer email addresses for email newsletters;\n",
    "- Add product recommendation blocks to the online store website to increase conversion and average order value;\n",
    "- Add two new traffic acquisition channels to attract 30% more users.\n",
    "\n",
    "2. A/B Test.\n",
    "\n",
    "   Group B is recognized as the winner of the test, but solely based on the fact that the average number of orders in Group B is higher than in Group A by 16.9%. It is essential to note that, in terms of the average order value, Group B underperforms Group A by 2%.\n",
    "\n",
    "   The unsatisfactory outcome of the experiment can be attributed to incorrect input data. Errors occurred during the division of orders between the groups, with overlapping orders constituting over 15% of the total revenue during the test period. Additionally, the lack of data on unique visitors hinders a proper comparison of the average number of orders for each group."
   ]
  },
  {
   "cell_type": "code",
   "execution_count": 1,
   "id": "99bfcb2d",
   "metadata": {},
   "outputs": [],
   "source": [
    "import pandas as pd\n",
    "from scipy import stats as st\n",
    "import numpy as np\n",
    "import math as mth\n",
    "import datetime as dt\n",
    "import matplotlib.pyplot as plt\n",
    "import scipy.stats as stats\n",
    "from pandas.plotting import register_matplotlib_converters\n",
    "import warnings\n",
    "register_matplotlib_converters()\n",
    "\n",
    "pd.set_option('display.max_colwidth', None)"
   ]
  },
  {
   "cell_type": "markdown",
   "id": "0f41cd7a",
   "metadata": {},
   "source": [
    "Установка функций для обработки и анализа данных."
   ]
  },
  {
   "cell_type": "code",
   "execution_count": 2,
   "id": "209b0391",
   "metadata": {},
   "outputs": [],
   "source": [
    "def data_check(df, num_cols=None, cat_cols=None, cat_cols_value=None):\n",
    "    \"\"\"\n",
    "    The data_check function is designed to perform data validation on a DataFrame.\n",
    "    \n",
    "    Arguments:\n",
    "    - df: pandas.DataFrame - the data table to be checked.\n",
    "    - num_cols: list, optional - a list of numerical columns for calculating statistical metrics.\n",
    "    - cat_cols: list, optional - a list of categorical columns for counting unique values.\n",
    "    - cat_cols_value: list, optional - a list of categorical columns for displaying unique values.\n",
    "    \n",
    "    Displays information about the data in the table, including:\n",
    "    - Total number of rows and columns in the table.\n",
    "    - Number of duplicate rows.\n",
    "    - Number of unique values for each categorical column (if the cat_cols parameter is provided).\n",
    "    - Unique values for each categorical column (if the cat_cols_value parameter is provided).\n",
    "    - Statistical metrics for numerical columns (if the num_cols parameter is provided).\n",
    "    \"\"\"\n",
    "    print('Total number of rows in the table:', df.shape[0])\n",
    "    print('Number of columns in the table:', df.shape[1])\n",
    "    print('Duplicate rows:', df.duplicated().sum())\n",
    "    print('-'*45)\n",
    "\n",
    "    if cat_cols:\n",
    "        print('Number of unique values in columns:\\n')\n",
    "        for col in cat_cols:\n",
    "            print(f'{col}: {df[col].nunique()}')\n",
    "    print('-'*45)\n",
    "\n",
    "    if cat_cols_value:\n",
    "        print('Unique values for categorical columns:\\n')\n",
    "        for col_v in cat_cols_value:\n",
    "            print(f'{col_v}:\\n{df[col_v].value_counts()}\\n')\n",
    "    print('-'*45)\n",
    "    if num_cols:\n",
    "        print('Statistical metrics for numerical columns:\\n')\n",
    "        print(df[num_cols].describe())"
   ]
  },
  {
   "cell_type": "code",
   "execution_count": 3,
   "id": "0088f66a",
   "metadata": {},
   "outputs": [],
   "source": [
    "def table_info(df):\n",
    "    \"\"\"\n",
    "    The table_info function is designed to check the number and data types of values in a table.\n",
    "\n",
    "    Arguments:\n",
    "    - df: pandas.DataFrame - the data table to be checked.\n",
    "\n",
    "    Returns a pandas.DataFrame containing information about each column of the table:\n",
    "    - 'name_columns': column names.\n",
    "    - 'total': total number of non-null values in the column.\n",
    "    - 'NaN': number of missing values (NaN) in the column.\n",
    "    - 'types': data type of the column.\n",
    "    - 'missing_ratio': percentage of missing values relative to the total number of values in the column.\n",
    "\n",
    "    The resulting DataFrame is sorted by the 'missing_ratio' column in descending order.\n",
    "    \"\"\"\n",
    "    table = pd.DataFrame({\n",
    "        'total': df.count(),\n",
    "        'NaN': df.isnull().sum(),\n",
    "        'types': df.dtypes,\n",
    "        'missing_ratio': ((df.isnull().sum() / df.shape[0])*100).round(2)})\n",
    "    table = table.sort_values(by='missing_ratio', ascending=False)  # Sorting by the 'missing_ratio' column in descending order\n",
    "    table = table.reset_index().rename(columns={'index': 'name_columns'})  # Adding a column with indexes\n",
    "    return table"
   ]
  },
  {
   "cell_type": "markdown",
   "id": "18abb3c6",
   "metadata": {},
   "source": [
    "## Data preprocessing"
   ]
  },
  {
   "cell_type": "markdown",
   "id": "c6202a3d",
   "metadata": {},
   "source": [
    "**Loading data**"
   ]
  },
  {
   "cell_type": "code",
   "execution_count": 4,
   "id": "078e3298",
   "metadata": {},
   "outputs": [
    {
     "name": "stdout",
     "output_type": "stream",
     "text": [
      "Hypothesis\n"
     ]
    },
    {
     "data": {
      "text/html": [
       "<div>\n",
       "<style scoped>\n",
       "    .dataframe tbody tr th:only-of-type {\n",
       "        vertical-align: middle;\n",
       "    }\n",
       "\n",
       "    .dataframe tbody tr th {\n",
       "        vertical-align: top;\n",
       "    }\n",
       "\n",
       "    .dataframe thead th {\n",
       "        text-align: right;\n",
       "    }\n",
       "</style>\n",
       "<table border=\"1\" class=\"dataframe\">\n",
       "  <thead>\n",
       "    <tr style=\"text-align: right;\">\n",
       "      <th></th>\n",
       "      <th>Hypothesis</th>\n",
       "      <th>Reach</th>\n",
       "      <th>Impact</th>\n",
       "      <th>Confidence</th>\n",
       "      <th>Efforts</th>\n",
       "    </tr>\n",
       "  </thead>\n",
       "  <tbody>\n",
       "    <tr>\n",
       "      <th>0</th>\n",
       "      <td>Добавить два новых канала привлечения трафика, что позволит привлекать на 30% больше пользователей</td>\n",
       "      <td>3</td>\n",
       "      <td>10</td>\n",
       "      <td>8</td>\n",
       "      <td>6</td>\n",
       "    </tr>\n",
       "    <tr>\n",
       "      <th>1</th>\n",
       "      <td>Запустить собственную службу доставки, что сократит срок доставки заказов</td>\n",
       "      <td>2</td>\n",
       "      <td>5</td>\n",
       "      <td>4</td>\n",
       "      <td>10</td>\n",
       "    </tr>\n",
       "    <tr>\n",
       "      <th>2</th>\n",
       "      <td>Добавить блоки рекомендаций товаров на сайт интернет магазина, чтобы повысить конверсию и средний чек заказа</td>\n",
       "      <td>8</td>\n",
       "      <td>3</td>\n",
       "      <td>7</td>\n",
       "      <td>3</td>\n",
       "    </tr>\n",
       "    <tr>\n",
       "      <th>3</th>\n",
       "      <td>Изменить структура категорий, что увеличит конверсию, т.к. пользователи быстрее найдут нужный товар</td>\n",
       "      <td>8</td>\n",
       "      <td>3</td>\n",
       "      <td>3</td>\n",
       "      <td>8</td>\n",
       "    </tr>\n",
       "    <tr>\n",
       "      <th>4</th>\n",
       "      <td>Изменить цвет фона главной страницы, чтобы увеличить вовлеченность пользователей</td>\n",
       "      <td>3</td>\n",
       "      <td>1</td>\n",
       "      <td>1</td>\n",
       "      <td>1</td>\n",
       "    </tr>\n",
       "    <tr>\n",
       "      <th>5</th>\n",
       "      <td>Добавить страницу отзывов клиентов о магазине, что позволит увеличить количество заказов</td>\n",
       "      <td>3</td>\n",
       "      <td>2</td>\n",
       "      <td>2</td>\n",
       "      <td>3</td>\n",
       "    </tr>\n",
       "    <tr>\n",
       "      <th>6</th>\n",
       "      <td>Показать на главной странице баннеры с актуальными акциями и распродажами, чтобы увеличить конверсию</td>\n",
       "      <td>5</td>\n",
       "      <td>3</td>\n",
       "      <td>8</td>\n",
       "      <td>3</td>\n",
       "    </tr>\n",
       "    <tr>\n",
       "      <th>7</th>\n",
       "      <td>Добавить форму подписки на все основные страницы, чтобы собрать базу клиентов для email-рассылок</td>\n",
       "      <td>10</td>\n",
       "      <td>7</td>\n",
       "      <td>8</td>\n",
       "      <td>5</td>\n",
       "    </tr>\n",
       "    <tr>\n",
       "      <th>8</th>\n",
       "      <td>Запустить акцию, дающую скидку на товар в день рождения</td>\n",
       "      <td>1</td>\n",
       "      <td>9</td>\n",
       "      <td>9</td>\n",
       "      <td>5</td>\n",
       "    </tr>\n",
       "  </tbody>\n",
       "</table>\n",
       "</div>"
      ],
      "text/plain": [
       "                                                                                                     Hypothesis  \\\n",
       "0            Добавить два новых канала привлечения трафика, что позволит привлекать на 30% больше пользователей   \n",
       "1                                     Запустить собственную службу доставки, что сократит срок доставки заказов   \n",
       "2  Добавить блоки рекомендаций товаров на сайт интернет магазина, чтобы повысить конверсию и средний чек заказа   \n",
       "3           Изменить структура категорий, что увеличит конверсию, т.к. пользователи быстрее найдут нужный товар   \n",
       "4                              Изменить цвет фона главной страницы, чтобы увеличить вовлеченность пользователей   \n",
       "5                      Добавить страницу отзывов клиентов о магазине, что позволит увеличить количество заказов   \n",
       "6          Показать на главной странице баннеры с актуальными акциями и распродажами, чтобы увеличить конверсию   \n",
       "7              Добавить форму подписки на все основные страницы, чтобы собрать базу клиентов для email-рассылок   \n",
       "8                                                       Запустить акцию, дающую скидку на товар в день рождения   \n",
       "\n",
       "   Reach  Impact  Confidence  Efforts  \n",
       "0      3      10           8        6  \n",
       "1      2       5           4       10  \n",
       "2      8       3           7        3  \n",
       "3      8       3           3        8  \n",
       "4      3       1           1        1  \n",
       "5      3       2           2        3  \n",
       "6      5       3           8        3  \n",
       "7     10       7           8        5  \n",
       "8      1       9           9        5  "
      ]
     },
     "metadata": {},
     "output_type": "display_data"
    },
    {
     "name": "stdout",
     "output_type": "stream",
     "text": [
      "\n",
      "Orders\n"
     ]
    },
    {
     "data": {
      "text/html": [
       "<div>\n",
       "<style scoped>\n",
       "    .dataframe tbody tr th:only-of-type {\n",
       "        vertical-align: middle;\n",
       "    }\n",
       "\n",
       "    .dataframe tbody tr th {\n",
       "        vertical-align: top;\n",
       "    }\n",
       "\n",
       "    .dataframe thead th {\n",
       "        text-align: right;\n",
       "    }\n",
       "</style>\n",
       "<table border=\"1\" class=\"dataframe\">\n",
       "  <thead>\n",
       "    <tr style=\"text-align: right;\">\n",
       "      <th></th>\n",
       "      <th>transactionId</th>\n",
       "      <th>visitorId</th>\n",
       "      <th>date</th>\n",
       "      <th>revenue</th>\n",
       "      <th>group</th>\n",
       "    </tr>\n",
       "  </thead>\n",
       "  <tbody>\n",
       "    <tr>\n",
       "      <th>0</th>\n",
       "      <td>3667963787</td>\n",
       "      <td>3312258926</td>\n",
       "      <td>2019-08-15</td>\n",
       "      <td>1650</td>\n",
       "      <td>B</td>\n",
       "    </tr>\n",
       "    <tr>\n",
       "      <th>1</th>\n",
       "      <td>2804400009</td>\n",
       "      <td>3642806036</td>\n",
       "      <td>2019-08-15</td>\n",
       "      <td>730</td>\n",
       "      <td>B</td>\n",
       "    </tr>\n",
       "    <tr>\n",
       "      <th>2</th>\n",
       "      <td>2961555356</td>\n",
       "      <td>4069496402</td>\n",
       "      <td>2019-08-15</td>\n",
       "      <td>400</td>\n",
       "      <td>A</td>\n",
       "    </tr>\n",
       "    <tr>\n",
       "      <th>3</th>\n",
       "      <td>3797467345</td>\n",
       "      <td>1196621759</td>\n",
       "      <td>2019-08-15</td>\n",
       "      <td>9759</td>\n",
       "      <td>B</td>\n",
       "    </tr>\n",
       "    <tr>\n",
       "      <th>4</th>\n",
       "      <td>2282983706</td>\n",
       "      <td>2322279887</td>\n",
       "      <td>2019-08-15</td>\n",
       "      <td>2308</td>\n",
       "      <td>B</td>\n",
       "    </tr>\n",
       "  </tbody>\n",
       "</table>\n",
       "</div>"
      ],
      "text/plain": [
       "   transactionId   visitorId        date  revenue group\n",
       "0     3667963787  3312258926  2019-08-15     1650     B\n",
       "1     2804400009  3642806036  2019-08-15      730     B\n",
       "2     2961555356  4069496402  2019-08-15      400     A\n",
       "3     3797467345  1196621759  2019-08-15     9759     B\n",
       "4     2282983706  2322279887  2019-08-15     2308     B"
      ]
     },
     "metadata": {},
     "output_type": "display_data"
    },
    {
     "name": "stdout",
     "output_type": "stream",
     "text": [
      "\n",
      "Visitors\n"
     ]
    },
    {
     "data": {
      "text/html": [
       "<div>\n",
       "<style scoped>\n",
       "    .dataframe tbody tr th:only-of-type {\n",
       "        vertical-align: middle;\n",
       "    }\n",
       "\n",
       "    .dataframe tbody tr th {\n",
       "        vertical-align: top;\n",
       "    }\n",
       "\n",
       "    .dataframe thead th {\n",
       "        text-align: right;\n",
       "    }\n",
       "</style>\n",
       "<table border=\"1\" class=\"dataframe\">\n",
       "  <thead>\n",
       "    <tr style=\"text-align: right;\">\n",
       "      <th></th>\n",
       "      <th>date</th>\n",
       "      <th>group</th>\n",
       "      <th>visitors</th>\n",
       "    </tr>\n",
       "  </thead>\n",
       "  <tbody>\n",
       "    <tr>\n",
       "      <th>0</th>\n",
       "      <td>2019-08-01</td>\n",
       "      <td>A</td>\n",
       "      <td>719</td>\n",
       "    </tr>\n",
       "    <tr>\n",
       "      <th>1</th>\n",
       "      <td>2019-08-02</td>\n",
       "      <td>A</td>\n",
       "      <td>619</td>\n",
       "    </tr>\n",
       "    <tr>\n",
       "      <th>2</th>\n",
       "      <td>2019-08-03</td>\n",
       "      <td>A</td>\n",
       "      <td>507</td>\n",
       "    </tr>\n",
       "    <tr>\n",
       "      <th>3</th>\n",
       "      <td>2019-08-04</td>\n",
       "      <td>A</td>\n",
       "      <td>717</td>\n",
       "    </tr>\n",
       "    <tr>\n",
       "      <th>4</th>\n",
       "      <td>2019-08-05</td>\n",
       "      <td>A</td>\n",
       "      <td>756</td>\n",
       "    </tr>\n",
       "  </tbody>\n",
       "</table>\n",
       "</div>"
      ],
      "text/plain": [
       "         date group  visitors\n",
       "0  2019-08-01     A       719\n",
       "1  2019-08-02     A       619\n",
       "2  2019-08-03     A       507\n",
       "3  2019-08-04     A       717\n",
       "4  2019-08-05     A       756"
      ]
     },
     "metadata": {},
     "output_type": "display_data"
    }
   ],
   "source": [
    "hypothesis, orders, visitors = (\n",
    "    pd.read_csv('/Users/yuliamazur/ПИТОН/Принятие решений в бизнесе/hypothesis.csv'),  \n",
    "    pd.read_csv('/Users/yuliamazur/ПИТОН/Принятие решений в бизнесе/orders.csv'),  \n",
    "    pd.read_csv('/Users/yuliamazur/ПИТОН/Принятие решений в бизнесе/visitors.csv'),  \n",
    ")\n",
    "\n",
    "print('Hypothesis')\n",
    "display(hypothesis)\n",
    "print()\n",
    "print('Orders')\n",
    "display(orders.head())\n",
    "print()\n",
    "print('Visitors')\n",
    "display(visitors.head())"
   ]
  },
  {
   "cell_type": "markdown",
   "id": "cf8b0c2f",
   "metadata": {},
   "source": [
    "**Data Description:**\n",
    "\n",
    "**hypothesis.csv**\n",
    "\n",
    "- `Hypothesis` - a brief description of the hypothesis;\n",
    "- `Reach` - coverage of users on a 10-point scale;\n",
    "- `Impact` - impact on users on a 10-point scale;\n",
    "- `Confidence` - confidence in the hypothesis on a 10-point scale;\n",
    "- `Efforts` - the cost of resources to test the hypothesis on a 10-point scale. The larger the Efforts value, the more expensive it is to test the hypothesis.\n",
    "\n",
    "**orders.csv**\n",
    "- `transactionId` — order identifier;\n",
    "- `visitorId` - identifier of the user who made the order;\n",
    "- `date` — date when the order was made;\n",
    "- `revenue` — order revenue;\n",
    "- `group` — the A/B test group that the order belongs to.\n",
    "\n",
    "**visitors.csv**\n",
    "- `date` — date;\n",
    "- `group` — A/B test group;\n",
    "- `visitors` - the number of users on the specified date in the specified A/B test group"
   ]
  },
  {
   "cell_type": "code",
   "execution_count": 5,
   "id": "25cd9c5f",
   "metadata": {},
   "outputs": [
    {
     "data": {
      "text/plain": [
       "Index(['hypothesis', 'reach', 'impact', 'confidence', 'efforts'], dtype='object')"
      ]
     },
     "metadata": {},
     "output_type": "display_data"
    },
    {
     "data": {
      "text/plain": [
       "Index(['transaction_id', 'visitor_id', 'date', 'revenue', 'group'], dtype='object')"
      ]
     },
     "execution_count": 5,
     "metadata": {},
     "output_type": "execute_result"
    }
   ],
   "source": [
    "# Convert column names to lower case\n",
    "hypothesis.columns = hypothesis.columns.str.lower()\n",
    "orders.columns = [name.replace('Id', '_id') for name in orders.columns]\n",
    "\n",
    "display(hypothesis.columns)\n",
    "orders.columns"
   ]
  },
  {
   "cell_type": "code",
   "execution_count": 6,
   "id": "4793d4e2",
   "metadata": {},
   "outputs": [
    {
     "name": "stdout",
     "output_type": "stream",
     "text": [
      "Total number of rows in the table: 1197\n",
      "Number of columns in the table: 5\n",
      "Duplicate rows: 0\n",
      "---------------------------------------------\n",
      "Number of unique values in columns:\n",
      "\n",
      "date: 31\n",
      "---------------------------------------------\n",
      "Unique values for categorical columns:\n",
      "\n",
      "group:\n",
      "B    640\n",
      "A    557\n",
      "Name: group, dtype: int64\n",
      "\n",
      "---------------------------------------------\n",
      "Statistical metrics for numerical columns:\n",
      "\n",
      "            revenue\n",
      "count  1.197000e+03\n",
      "mean   8.348006e+03\n",
      "std    3.919113e+04\n",
      "min    5.000000e+01\n",
      "25%    1.220000e+03\n",
      "50%    2.978000e+03\n",
      "75%    8.290000e+03\n",
      "max    1.294500e+06\n"
     ]
    }
   ],
   "source": [
    "data_check(\n",
    "    orders, \n",
    "    num_cols=['revenue'], \n",
    "    cat_cols=['date'], \n",
    "    cat_cols_value=['group']\n",
    ")"
   ]
  },
  {
   "cell_type": "code",
   "execution_count": 7,
   "id": "69822815",
   "metadata": {},
   "outputs": [
    {
     "data": {
      "text/html": [
       "<div>\n",
       "<style scoped>\n",
       "    .dataframe tbody tr th:only-of-type {\n",
       "        vertical-align: middle;\n",
       "    }\n",
       "\n",
       "    .dataframe tbody tr th {\n",
       "        vertical-align: top;\n",
       "    }\n",
       "\n",
       "    .dataframe thead th {\n",
       "        text-align: right;\n",
       "    }\n",
       "</style>\n",
       "<table border=\"1\" class=\"dataframe\">\n",
       "  <thead>\n",
       "    <tr style=\"text-align: right;\">\n",
       "      <th></th>\n",
       "      <th>name_columns</th>\n",
       "      <th>total</th>\n",
       "      <th>NaN</th>\n",
       "      <th>types</th>\n",
       "      <th>missing_ratio</th>\n",
       "    </tr>\n",
       "  </thead>\n",
       "  <tbody>\n",
       "    <tr>\n",
       "      <th>0</th>\n",
       "      <td>transaction_id</td>\n",
       "      <td>1197</td>\n",
       "      <td>0</td>\n",
       "      <td>int64</td>\n",
       "      <td>0.0</td>\n",
       "    </tr>\n",
       "    <tr>\n",
       "      <th>1</th>\n",
       "      <td>visitor_id</td>\n",
       "      <td>1197</td>\n",
       "      <td>0</td>\n",
       "      <td>int64</td>\n",
       "      <td>0.0</td>\n",
       "    </tr>\n",
       "    <tr>\n",
       "      <th>2</th>\n",
       "      <td>date</td>\n",
       "      <td>1197</td>\n",
       "      <td>0</td>\n",
       "      <td>object</td>\n",
       "      <td>0.0</td>\n",
       "    </tr>\n",
       "    <tr>\n",
       "      <th>3</th>\n",
       "      <td>revenue</td>\n",
       "      <td>1197</td>\n",
       "      <td>0</td>\n",
       "      <td>int64</td>\n",
       "      <td>0.0</td>\n",
       "    </tr>\n",
       "    <tr>\n",
       "      <th>4</th>\n",
       "      <td>group</td>\n",
       "      <td>1197</td>\n",
       "      <td>0</td>\n",
       "      <td>object</td>\n",
       "      <td>0.0</td>\n",
       "    </tr>\n",
       "  </tbody>\n",
       "</table>\n",
       "</div>"
      ],
      "text/plain": [
       "     name_columns  total  NaN   types  missing_ratio\n",
       "0  transaction_id   1197    0   int64            0.0\n",
       "1      visitor_id   1197    0   int64            0.0\n",
       "2            date   1197    0  object            0.0\n",
       "3         revenue   1197    0   int64            0.0\n",
       "4           group   1197    0  object            0.0"
      ]
     },
     "execution_count": 7,
     "metadata": {},
     "output_type": "execute_result"
    }
   ],
   "source": [
    "table_info(orders)"
   ]
  },
  {
   "cell_type": "markdown",
   "id": "e40e271e",
   "metadata": {},
   "source": [
    "`Notes`\n",
    "- There is enough data in the orders table for correct analysis\n",
    "- No passes, no duplicates\n",
    "- The data types are mostly intended, with the exception of date"
   ]
  },
  {
   "cell_type": "code",
   "execution_count": 8,
   "id": "f7dc9c28",
   "metadata": {},
   "outputs": [
    {
     "data": {
      "text/html": [
       "<div>\n",
       "<style scoped>\n",
       "    .dataframe tbody tr th:only-of-type {\n",
       "        vertical-align: middle;\n",
       "    }\n",
       "\n",
       "    .dataframe tbody tr th {\n",
       "        vertical-align: top;\n",
       "    }\n",
       "\n",
       "    .dataframe thead th {\n",
       "        text-align: right;\n",
       "    }\n",
       "</style>\n",
       "<table border=\"1\" class=\"dataframe\">\n",
       "  <thead>\n",
       "    <tr style=\"text-align: right;\">\n",
       "      <th></th>\n",
       "      <th>name_columns</th>\n",
       "      <th>total</th>\n",
       "      <th>NaN</th>\n",
       "      <th>types</th>\n",
       "      <th>missing_ratio</th>\n",
       "    </tr>\n",
       "  </thead>\n",
       "  <tbody>\n",
       "    <tr>\n",
       "      <th>0</th>\n",
       "      <td>hypothesis</td>\n",
       "      <td>9</td>\n",
       "      <td>0</td>\n",
       "      <td>object</td>\n",
       "      <td>0.0</td>\n",
       "    </tr>\n",
       "    <tr>\n",
       "      <th>1</th>\n",
       "      <td>reach</td>\n",
       "      <td>9</td>\n",
       "      <td>0</td>\n",
       "      <td>int64</td>\n",
       "      <td>0.0</td>\n",
       "    </tr>\n",
       "    <tr>\n",
       "      <th>2</th>\n",
       "      <td>impact</td>\n",
       "      <td>9</td>\n",
       "      <td>0</td>\n",
       "      <td>int64</td>\n",
       "      <td>0.0</td>\n",
       "    </tr>\n",
       "    <tr>\n",
       "      <th>3</th>\n",
       "      <td>confidence</td>\n",
       "      <td>9</td>\n",
       "      <td>0</td>\n",
       "      <td>int64</td>\n",
       "      <td>0.0</td>\n",
       "    </tr>\n",
       "    <tr>\n",
       "      <th>4</th>\n",
       "      <td>efforts</td>\n",
       "      <td>9</td>\n",
       "      <td>0</td>\n",
       "      <td>int64</td>\n",
       "      <td>0.0</td>\n",
       "    </tr>\n",
       "  </tbody>\n",
       "</table>\n",
       "</div>"
      ],
      "text/plain": [
       "  name_columns  total  NaN   types  missing_ratio\n",
       "0   hypothesis      9    0  object            0.0\n",
       "1        reach      9    0   int64            0.0\n",
       "2       impact      9    0   int64            0.0\n",
       "3   confidence      9    0   int64            0.0\n",
       "4      efforts      9    0   int64            0.0"
      ]
     },
     "execution_count": 8,
     "metadata": {},
     "output_type": "execute_result"
    }
   ],
   "source": [
    "table_info(hypothesis)"
   ]
  },
  {
   "cell_type": "code",
   "execution_count": 9,
   "id": "43b0e5bc",
   "metadata": {},
   "outputs": [
    {
     "data": {
      "text/html": [
       "<div>\n",
       "<style scoped>\n",
       "    .dataframe tbody tr th:only-of-type {\n",
       "        vertical-align: middle;\n",
       "    }\n",
       "\n",
       "    .dataframe tbody tr th {\n",
       "        vertical-align: top;\n",
       "    }\n",
       "\n",
       "    .dataframe thead th {\n",
       "        text-align: right;\n",
       "    }\n",
       "</style>\n",
       "<table border=\"1\" class=\"dataframe\">\n",
       "  <thead>\n",
       "    <tr style=\"text-align: right;\">\n",
       "      <th></th>\n",
       "      <th>name_columns</th>\n",
       "      <th>total</th>\n",
       "      <th>NaN</th>\n",
       "      <th>types</th>\n",
       "      <th>missing_ratio</th>\n",
       "    </tr>\n",
       "  </thead>\n",
       "  <tbody>\n",
       "    <tr>\n",
       "      <th>0</th>\n",
       "      <td>date</td>\n",
       "      <td>62</td>\n",
       "      <td>0</td>\n",
       "      <td>object</td>\n",
       "      <td>0.0</td>\n",
       "    </tr>\n",
       "    <tr>\n",
       "      <th>1</th>\n",
       "      <td>group</td>\n",
       "      <td>62</td>\n",
       "      <td>0</td>\n",
       "      <td>object</td>\n",
       "      <td>0.0</td>\n",
       "    </tr>\n",
       "    <tr>\n",
       "      <th>2</th>\n",
       "      <td>visitors</td>\n",
       "      <td>62</td>\n",
       "      <td>0</td>\n",
       "      <td>int64</td>\n",
       "      <td>0.0</td>\n",
       "    </tr>\n",
       "  </tbody>\n",
       "</table>\n",
       "</div>"
      ],
      "text/plain": [
       "  name_columns  total  NaN   types  missing_ratio\n",
       "0         date     62    0  object            0.0\n",
       "1        group     62    0  object            0.0\n",
       "2     visitors     62    0   int64            0.0"
      ]
     },
     "execution_count": 9,
     "metadata": {},
     "output_type": "execute_result"
    }
   ],
   "source": [
    "table_info(visitors)"
   ]
  },
  {
   "cell_type": "code",
   "execution_count": 10,
   "id": "ccfcec34",
   "metadata": {},
   "outputs": [],
   "source": [
    "# convert the dates in the visitors and orders tables to the date format.\n",
    "\n",
    "visitors['date'] = pd.to_datetime(visitors['date'])\n",
    "orders['date'] = pd.to_datetime(orders['date'])"
   ]
  },
  {
   "cell_type": "markdown",
   "id": "88f5bc75",
   "metadata": {},
   "source": [
    "`Notes`\n",
    "- At the stage of primary data preprocessing: the case of column names was corrected, data types with date were replaced from object to datetime. Checked tables for duplicates and gaps."
   ]
  },
  {
   "cell_type": "markdown",
   "id": "5975127b",
   "metadata": {},
   "source": [
    "### Check tables for data correctness"
   ]
  },
  {
   "cell_type": "markdown",
   "id": "c3bac117",
   "metadata": {},
   "source": [
    "Let's check for what period there is data."
   ]
  },
  {
   "cell_type": "code",
   "execution_count": 11,
   "id": "86fab5a0",
   "metadata": {},
   "outputs": [
    {
     "name": "stdout",
     "output_type": "stream",
     "text": [
      "2019-08-31 00:00:00\n",
      "2019-08-01 00:00:00\n",
      "\n",
      "2019-08-31 00:00:00\n",
      "2019-08-01 00:00:00\n"
     ]
    }
   ],
   "source": [
    "print(visitors['date'].max())\n",
    "print(visitors['date'].min())\n",
    "print()\n",
    "print(orders['date'].max())\n",
    "print(orders['date'].min())"
   ]
  },
  {
   "cell_type": "markdown",
   "id": "2c555fca",
   "metadata": {},
   "source": [
    "Data in two tables for one period - full August 2019."
   ]
  },
  {
   "cell_type": "markdown",
   "id": "f4578819",
   "metadata": {},
   "source": [
    "Let's see how visitors and customer orders are divided into groups A and B.\n",
    "\n",
    "Let's check the **visitors** table for missing values for the dates in the groups. It is necessary that for all dates from August 1 to August 31 there are visitors for group A and for group B."
   ]
  },
  {
   "cell_type": "code",
   "execution_count": 12,
   "id": "40fde619",
   "metadata": {},
   "outputs": [
    {
     "name": "stdout",
     "output_type": "stream",
     "text": [
      "No missing values\n"
     ]
    }
   ],
   "source": [
    "idx = pd.MultiIndex.from_product([pd.date_range(start='2019-08-01', end='2019-08-31'), ['A', 'B']])\n",
    "\n",
    "groups = visitors.groupby(['date', 'group']).count()\n",
    "missing = groups.reindex(idx, fill_value=0)\n",
    "\n",
    "# Проверяем, есть ли отсутствующие значения\n",
    "if missing['visitors'].min() == 0:\n",
    "    print('There are missing values:')\n",
    "    print(missing[missing['visitors'] == 0])\n",
    "else:\n",
    "    print('No missing values')"
   ]
  },
  {
   "cell_type": "markdown",
   "id": "c42c6d9c",
   "metadata": {},
   "source": [
    "Let's check if the number of values in the groups corresponds to the total sum of values."
   ]
  },
  {
   "cell_type": "code",
   "execution_count": 13,
   "id": "e2f46d66",
   "metadata": {},
   "outputs": [
    {
     "name": "stdout",
     "output_type": "stream",
     "text": [
      "Number of rows per group A and B in visitors:\n",
      " A    31\n",
      "B    31\n",
      "Name: group, dtype: int64\n",
      "\n",
      "The sum of visitors per group A in visitors: 18736\n",
      "Sum of visitors per group B in visitors: 18916\n",
      "Total number of visitors visitors: 37652\n"
     ]
    }
   ],
   "source": [
    "print('Number of rows per group A and B in visitors:\\n', visitors['group'].value_counts())\n",
    "print()\n",
    "print('The sum of visitors per group A in visitors:', visitors[visitors['group']=='A']['visitors'].sum())\n",
    "print('Sum of visitors per group B in visitors:', visitors[visitors['group']=='B']['visitors'].sum())\n",
    "print('Total number of visitors visitors:', visitors['visitors'].sum())"
   ]
  },
  {
   "cell_type": "markdown",
   "id": "0b3841c5",
   "metadata": {},
   "source": [
    "`Notes`\n",
    "- table `visitors` is correct for further analysis. There are no gaps in the dates, the total amount of visitors is equal to the sum of groups A and B.\n",
    "\n",
    "Let's check the `orders` table to see if there is data for each date for each group."
   ]
  },
  {
   "cell_type": "code",
   "execution_count": 14,
   "id": "bc8c213d",
   "metadata": {},
   "outputs": [
    {
     "name": "stdout",
     "output_type": "stream",
     "text": [
      "No missing values\n"
     ]
    }
   ],
   "source": [
    "idx_ = pd.MultiIndex.from_product([pd.date_range(start='2019-08-01', end='2019-08-31'), ['A', 'B']])\n",
    "\n",
    "groups_ = orders.groupby(['date', 'group']).count()\n",
    "\n",
    "missing_ = groups_.reindex(idx_, fill_value=0)\n",
    "missing_\n",
    "if missing_['revenue'].min() == 0:\n",
    "    print('There are missing values:')\n",
    "    print(missing_[missing_['revenue'] == 0])\n",
    "else:\n",
    "    print('No missing values')"
   ]
  },
  {
   "cell_type": "markdown",
   "id": "12d463cd",
   "metadata": {},
   "source": [
    "The orders table has a unique customer identifier - visitor_id. Ideally (if these are not offline stores), each group should correspond to a unique buyer, i.e. a buyer from group A should not be a buyer from group B. Let's check the data, the number of unique buyers for groups and compare with the total number in the table."
   ]
  },
  {
   "cell_type": "code",
   "execution_count": 15,
   "id": "f15a264c",
   "metadata": {},
   "outputs": [
    {
     "name": "stdout",
     "output_type": "stream",
     "text": [
      "Number of unique customers per group A in orders: 503\n",
      "Number of unique buyers per group B in orders: 586\n",
      "Total Unique Buyers: 1031\n"
     ]
    }
   ],
   "source": [
    "print('Number of unique customers per group A in orders:', orders[orders['group']=='A']['visitor_id'].nunique())\n",
    "print('Number of unique buyers per group B in orders:', orders[orders['group']=='B']['visitor_id'].nunique())\n",
    "print('Total Unique Buyers:', orders['visitor_id'].nunique())"
   ]
  },
  {
   "cell_type": "markdown",
   "id": "3db50cb1",
   "metadata": {},
   "source": [
    "**Important!** The sum of unique customers in group A and group B is not equal to the number of unique customers in the table. The difference is 58 buyers. Let's find them."
   ]
  },
  {
   "cell_type": "code",
   "execution_count": 16,
   "id": "1a147b23",
   "metadata": {},
   "outputs": [
    {
     "name": "stdout",
     "output_type": "stream",
     "text": [
      "The number of buyers present in groups A and B at the same time: 58\n"
     ]
    }
   ],
   "source": [
    "# create two lists of uniques by group and merge them.\n",
    "usersA = pd.DataFrame(orders.query('group == \"A\"')['visitor_id'].unique()).rename(columns={0: 'visitor_id'})\n",
    "usersB = pd.DataFrame(orders.query('group == \"B\"')['visitor_id'].unique()).rename(columns={0: 'visitor_id'})\n",
    "\n",
    "common_users = pd.merge(usersA, usersB, how='inner', on='visitor_id')\n",
    "print('The number of buyers present in groups A and B at the same time:', len(common_users))"
   ]
  },
  {
   "cell_type": "markdown",
   "id": "f44195fb",
   "metadata": {},
   "source": [
    "Let's look at the amount of orders of these buyers and determine whether they need to be removed from the analysis."
   ]
  },
  {
   "cell_type": "code",
   "execution_count": 17,
   "id": "77b27ad4",
   "metadata": {},
   "outputs": [
    {
     "name": "stdout",
     "output_type": "stream",
     "text": [
      "The sum of orders of buyers in group A, who also have purchases in group B: 720147\n",
      "The sum of orders of buyers in group B, who also have purchases in group A: 838788\n",
      "\n",
      "Total Orders for Crossing Buyers: 1558935\n",
      "The total amount of orders in the orders table: 9992563\n"
     ]
    }
   ],
   "source": [
    "print('The sum of orders of buyers in group A, who also have purchases in group B:', orders.query('group == \"A\" and visitor_id in @common_users.visitor_id')['revenue'].sum()) \n",
    "print('The sum of orders of buyers in group B, who also have purchases in group A:', orders.query('group == \"B\" and visitor_id in @common_users.visitor_id')['revenue'].sum()) \n",
    "print()\n",
    "print('Total Orders for Crossing Buyers:', orders.query('visitor_id in @common_users.visitor_id')['revenue'].sum()) \n",
    "print('The total amount of orders in the orders table:', orders['revenue'].sum())"
   ]
  },
  {
   "cell_type": "markdown",
   "id": "81fc173a",
   "metadata": {},
   "source": [
    "**Important!**\n",
    "\n",
    "The amount of orders for overlapping buyers is more than 1.5 million rubles, which is more than 15% of the total revenue for the two test groups for the specified period. This can significantly affect the result of the A/B test analysis.\n",
    "\n",
    "Theoretically, a visitor can make two purchases under the influence of the tested hypotheses. To make a decision to conduct an analysis on such data, additional information from marketers, etc. is needed.\n",
    "\n",
    "Next, we check to see if these overlapping users made purchases on the same day. It is hard to imagine that this is possible without additional information about the data collection for the test."
   ]
  },
  {
   "cell_type": "code",
   "execution_count": 18,
   "id": "6b524b9b",
   "metadata": {},
   "outputs": [
    {
     "data": {
      "text/html": [
       "<div>\n",
       "<style scoped>\n",
       "    .dataframe tbody tr th:only-of-type {\n",
       "        vertical-align: middle;\n",
       "    }\n",
       "\n",
       "    .dataframe tbody tr th {\n",
       "        vertical-align: top;\n",
       "    }\n",
       "\n",
       "    .dataframe thead th {\n",
       "        text-align: right;\n",
       "    }\n",
       "</style>\n",
       "<table border=\"1\" class=\"dataframe\">\n",
       "  <thead>\n",
       "    <tr style=\"text-align: right;\">\n",
       "      <th></th>\n",
       "      <th>group</th>\n",
       "      <th>A</th>\n",
       "      <th>B</th>\n",
       "    </tr>\n",
       "    <tr>\n",
       "      <th>visitor_id</th>\n",
       "      <th>date</th>\n",
       "      <th></th>\n",
       "      <th></th>\n",
       "    </tr>\n",
       "  </thead>\n",
       "  <tbody>\n",
       "    <tr>\n",
       "      <th rowspan=\"2\" valign=\"top\">4256040402</th>\n",
       "      <th>2019-08-27</th>\n",
       "      <td>1630.0</td>\n",
       "      <td>NaN</td>\n",
       "    </tr>\n",
       "    <tr>\n",
       "      <th>2019-08-31</th>\n",
       "      <td>5170.0</td>\n",
       "      <td>1850.0</td>\n",
       "    </tr>\n",
       "    <tr>\n",
       "      <th>4266935830</th>\n",
       "      <th>2019-08-29</th>\n",
       "      <td>78990.0</td>\n",
       "      <td>78990.0</td>\n",
       "    </tr>\n",
       "  </tbody>\n",
       "</table>\n",
       "</div>"
      ],
      "text/plain": [
       "group                        A        B\n",
       "visitor_id date                        \n",
       "4256040402 2019-08-27   1630.0      NaN\n",
       "           2019-08-31   5170.0   1850.0\n",
       "4266935830 2019-08-29  78990.0  78990.0"
      ]
     },
     "execution_count": 18,
     "metadata": {},
     "output_type": "execute_result"
    }
   ],
   "source": [
    "similar = orders.query('visitor_id in @common_users.visitor_id').pivot_table(index=['visitor_id', 'date'], columns='group', values='revenue')\n",
    "similar.tail(3)"
   ]
  },
  {
   "cell_type": "markdown",
   "id": "4b1b76f5",
   "metadata": {},
   "source": [
    "Some of the 58 overlapping buyers made purchases on the same day. In addition, we see that there are duplicates (the same purchase is taken into account for both A and B).\n",
    "\n",
    "Let's see how these data will affect the test results. Let's create the orders_clean table without taking into account the intersecting values. Next, we will check the initial table orders and orders_clean separately."
   ]
  },
  {
   "cell_type": "code",
   "execution_count": 19,
   "id": "58a63d00",
   "metadata": {},
   "outputs": [],
   "source": [
    "# create a table without taking into account intersecting values\n",
    "orders_clean = orders.query('visitor_id not in @common_users.visitor_id')"
   ]
  },
  {
   "cell_type": "markdown",
   "id": "f5b902d7",
   "metadata": {},
   "source": [
    "### Prioritization of hypotheses: ICE, RICE"
   ]
  },
  {
   "cell_type": "markdown",
   "id": "c5dc4018",
   "metadata": {},
   "source": [
    "Choosing hypotheses for testing."
   ]
  },
  {
   "cell_type": "code",
   "execution_count": 20,
   "id": "062ec9a2",
   "metadata": {},
   "outputs": [
    {
     "data": {
      "text/html": [
       "<div>\n",
       "<style scoped>\n",
       "    .dataframe tbody tr th:only-of-type {\n",
       "        vertical-align: middle;\n",
       "    }\n",
       "\n",
       "    .dataframe tbody tr th {\n",
       "        vertical-align: top;\n",
       "    }\n",
       "\n",
       "    .dataframe thead th {\n",
       "        text-align: right;\n",
       "    }\n",
       "</style>\n",
       "<table border=\"1\" class=\"dataframe\">\n",
       "  <thead>\n",
       "    <tr style=\"text-align: right;\">\n",
       "      <th></th>\n",
       "      <th>hypothesis</th>\n",
       "      <th>ICE</th>\n",
       "    </tr>\n",
       "  </thead>\n",
       "  <tbody>\n",
       "    <tr>\n",
       "      <th>8</th>\n",
       "      <td>Запустить акцию, дающую скидку на товар в день рождения</td>\n",
       "      <td>16.2</td>\n",
       "    </tr>\n",
       "    <tr>\n",
       "      <th>0</th>\n",
       "      <td>Добавить два новых канала привлечения трафика, что позволит привлекать на 30% больше пользователей</td>\n",
       "      <td>13.3</td>\n",
       "    </tr>\n",
       "    <tr>\n",
       "      <th>7</th>\n",
       "      <td>Добавить форму подписки на все основные страницы, чтобы собрать базу клиентов для email-рассылок</td>\n",
       "      <td>11.2</td>\n",
       "    </tr>\n",
       "    <tr>\n",
       "      <th>6</th>\n",
       "      <td>Показать на главной странице баннеры с актуальными акциями и распродажами, чтобы увеличить конверсию</td>\n",
       "      <td>8.0</td>\n",
       "    </tr>\n",
       "    <tr>\n",
       "      <th>2</th>\n",
       "      <td>Добавить блоки рекомендаций товаров на сайт интернет магазина, чтобы повысить конверсию и средний чек заказа</td>\n",
       "      <td>7.0</td>\n",
       "    </tr>\n",
       "    <tr>\n",
       "      <th>1</th>\n",
       "      <td>Запустить собственную службу доставки, что сократит срок доставки заказов</td>\n",
       "      <td>2.0</td>\n",
       "    </tr>\n",
       "    <tr>\n",
       "      <th>5</th>\n",
       "      <td>Добавить страницу отзывов клиентов о магазине, что позволит увеличить количество заказов</td>\n",
       "      <td>1.3</td>\n",
       "    </tr>\n",
       "    <tr>\n",
       "      <th>3</th>\n",
       "      <td>Изменить структура категорий, что увеличит конверсию, т.к. пользователи быстрее найдут нужный товар</td>\n",
       "      <td>1.1</td>\n",
       "    </tr>\n",
       "    <tr>\n",
       "      <th>4</th>\n",
       "      <td>Изменить цвет фона главной страницы, чтобы увеличить вовлеченность пользователей</td>\n",
       "      <td>1.0</td>\n",
       "    </tr>\n",
       "  </tbody>\n",
       "</table>\n",
       "</div>"
      ],
      "text/plain": [
       "                                                                                                     hypothesis  \\\n",
       "8                                                       Запустить акцию, дающую скидку на товар в день рождения   \n",
       "0            Добавить два новых канала привлечения трафика, что позволит привлекать на 30% больше пользователей   \n",
       "7              Добавить форму подписки на все основные страницы, чтобы собрать базу клиентов для email-рассылок   \n",
       "6          Показать на главной странице баннеры с актуальными акциями и распродажами, чтобы увеличить конверсию   \n",
       "2  Добавить блоки рекомендаций товаров на сайт интернет магазина, чтобы повысить конверсию и средний чек заказа   \n",
       "1                                     Запустить собственную службу доставки, что сократит срок доставки заказов   \n",
       "5                      Добавить страницу отзывов клиентов о магазине, что позволит увеличить количество заказов   \n",
       "3           Изменить структура категорий, что увеличит конверсию, т.к. пользователи быстрее найдут нужный товар   \n",
       "4                              Изменить цвет фона главной страницы, чтобы увеличить вовлеченность пользователей   \n",
       "\n",
       "    ICE  \n",
       "8  16.2  \n",
       "0  13.3  \n",
       "7  11.2  \n",
       "6   8.0  \n",
       "2   7.0  \n",
       "1   2.0  \n",
       "5   1.3  \n",
       "3   1.1  \n",
       "4   1.0  "
      ]
     },
     "execution_count": 20,
     "metadata": {},
     "output_type": "execute_result"
    }
   ],
   "source": [
    "hypothesis['ICE'] = round(hypothesis['impact']*hypothesis['confidence']/hypothesis['efforts'], 1)\n",
    "hypothesis[['hypothesis', 'ICE']].sort_values(by='ICE', ascending=False)"
   ]
  },
  {
   "cell_type": "markdown",
   "id": "d66f523e",
   "metadata": {},
   "source": [
    "`Notes`\n",
    "- Leading the first five hypotheses. Compare with the RICE method, add a coverage metric."
   ]
  },
  {
   "cell_type": "code",
   "execution_count": 21,
   "id": "8a073ada",
   "metadata": {},
   "outputs": [],
   "source": [
    "hypothesis['RICE'] = hypothesis['reach'] * hypothesis['impact'] * hypothesis['confidence'] / hypothesis['efforts']"
   ]
  },
  {
   "cell_type": "code",
   "execution_count": 22,
   "id": "40f1a637",
   "metadata": {},
   "outputs": [
    {
     "data": {
      "text/html": [
       "<style type=\"text/css\">\n",
       "#T_351b1_row0_col1 {\n",
       "  background-color: #cda0cd;\n",
       "  color: #000000;\n",
       "}\n",
       "#T_351b1_row0_col2, #T_351b1_row4_col1 {\n",
       "  background-color: #df64af;\n",
       "  color: #f1f1f1;\n",
       "}\n",
       "#T_351b1_row1_col1 {\n",
       "  background-color: #dccae3;\n",
       "  color: #000000;\n",
       "}\n",
       "#T_351b1_row1_col2 {\n",
       "  background-color: #d5bbdb;\n",
       "  color: #000000;\n",
       "}\n",
       "#T_351b1_row2_col1 {\n",
       "  background-color: #ce89c2;\n",
       "  color: #f1f1f1;\n",
       "}\n",
       "#T_351b1_row2_col2, #T_351b1_row3_col2 {\n",
       "  background-color: #e0d3e8;\n",
       "  color: #000000;\n",
       "}\n",
       "#T_351b1_row3_col1 {\n",
       "  background-color: #d7c0de;\n",
       "  color: #000000;\n",
       "}\n",
       "#T_351b1_row4_col2 {\n",
       "  background-color: #efebf4;\n",
       "  color: #000000;\n",
       "}\n",
       "#T_351b1_row5_col1, #T_351b1_row8_col1, #T_351b1_row8_col2 {\n",
       "  background-color: #f7f4f9;\n",
       "  color: #000000;\n",
       "}\n",
       "#T_351b1_row5_col2 {\n",
       "  background-color: #f3f0f7;\n",
       "  color: #000000;\n",
       "}\n",
       "#T_351b1_row6_col1 {\n",
       "  background-color: #f3eff6;\n",
       "  color: #000000;\n",
       "}\n",
       "#T_351b1_row6_col2, #T_351b1_row7_col2 {\n",
       "  background-color: #f6f3f9;\n",
       "  color: #000000;\n",
       "}\n",
       "#T_351b1_row7_col1 {\n",
       "  background-color: #f6f3f8;\n",
       "  color: #000000;\n",
       "}\n",
       "</style>\n",
       "<table id=\"T_351b1\">\n",
       "  <thead>\n",
       "    <tr>\n",
       "      <th class=\"blank level0\" >&nbsp;</th>\n",
       "      <th id=\"T_351b1_level0_col0\" class=\"col_heading level0 col0\" >hypothesis</th>\n",
       "      <th id=\"T_351b1_level0_col1\" class=\"col_heading level0 col1\" >ICE</th>\n",
       "      <th id=\"T_351b1_level0_col2\" class=\"col_heading level0 col2\" >RICE</th>\n",
       "    </tr>\n",
       "  </thead>\n",
       "  <tbody>\n",
       "    <tr>\n",
       "      <th id=\"T_351b1_level0_row0\" class=\"row_heading level0 row0\" >7</th>\n",
       "      <td id=\"T_351b1_row0_col0\" class=\"data row0 col0\" >Добавить форму подписки на все основные страницы, чтобы собрать базу клиентов для email-рассылок</td>\n",
       "      <td id=\"T_351b1_row0_col1\" class=\"data row0 col1\" >11.2</td>\n",
       "      <td id=\"T_351b1_row0_col2\" class=\"data row0 col2\" >112.0</td>\n",
       "    </tr>\n",
       "    <tr>\n",
       "      <th id=\"T_351b1_level0_row1\" class=\"row_heading level0 row1\" >2</th>\n",
       "      <td id=\"T_351b1_row1_col0\" class=\"data row1 col0\" >Добавить блоки рекомендаций товаров на сайт интернет магазина, чтобы повысить конверсию и средний чек заказа</td>\n",
       "      <td id=\"T_351b1_row1_col1\" class=\"data row1 col1\" >7.0</td>\n",
       "      <td id=\"T_351b1_row1_col2\" class=\"data row1 col2\" >56.0</td>\n",
       "    </tr>\n",
       "    <tr>\n",
       "      <th id=\"T_351b1_level0_row2\" class=\"row_heading level0 row2\" >0</th>\n",
       "      <td id=\"T_351b1_row2_col0\" class=\"data row2 col0\" >Добавить два новых канала привлечения трафика, что позволит привлекать на 30% больше пользователей</td>\n",
       "      <td id=\"T_351b1_row2_col1\" class=\"data row2 col1\" >13.3</td>\n",
       "      <td id=\"T_351b1_row2_col2\" class=\"data row2 col2\" >40.0</td>\n",
       "    </tr>\n",
       "    <tr>\n",
       "      <th id=\"T_351b1_level0_row3\" class=\"row_heading level0 row3\" >6</th>\n",
       "      <td id=\"T_351b1_row3_col0\" class=\"data row3 col0\" >Показать на главной странице баннеры с актуальными акциями и распродажами, чтобы увеличить конверсию</td>\n",
       "      <td id=\"T_351b1_row3_col1\" class=\"data row3 col1\" >8.0</td>\n",
       "      <td id=\"T_351b1_row3_col2\" class=\"data row3 col2\" >40.0</td>\n",
       "    </tr>\n",
       "    <tr>\n",
       "      <th id=\"T_351b1_level0_row4\" class=\"row_heading level0 row4\" >8</th>\n",
       "      <td id=\"T_351b1_row4_col0\" class=\"data row4 col0\" >Запустить акцию, дающую скидку на товар в день рождения</td>\n",
       "      <td id=\"T_351b1_row4_col1\" class=\"data row4 col1\" >16.2</td>\n",
       "      <td id=\"T_351b1_row4_col2\" class=\"data row4 col2\" >16.2</td>\n",
       "    </tr>\n",
       "    <tr>\n",
       "      <th id=\"T_351b1_level0_row5\" class=\"row_heading level0 row5\" >3</th>\n",
       "      <td id=\"T_351b1_row5_col0\" class=\"data row5 col0\" >Изменить структура категорий, что увеличит конверсию, т.к. пользователи быстрее найдут нужный товар</td>\n",
       "      <td id=\"T_351b1_row5_col1\" class=\"data row5 col1\" >1.1</td>\n",
       "      <td id=\"T_351b1_row5_col2\" class=\"data row5 col2\" >9.0</td>\n",
       "    </tr>\n",
       "    <tr>\n",
       "      <th id=\"T_351b1_level0_row6\" class=\"row_heading level0 row6\" >1</th>\n",
       "      <td id=\"T_351b1_row6_col0\" class=\"data row6 col0\" >Запустить собственную службу доставки, что сократит срок доставки заказов</td>\n",
       "      <td id=\"T_351b1_row6_col1\" class=\"data row6 col1\" >2.0</td>\n",
       "      <td id=\"T_351b1_row6_col2\" class=\"data row6 col2\" >4.0</td>\n",
       "    </tr>\n",
       "    <tr>\n",
       "      <th id=\"T_351b1_level0_row7\" class=\"row_heading level0 row7\" >5</th>\n",
       "      <td id=\"T_351b1_row7_col0\" class=\"data row7 col0\" >Добавить страницу отзывов клиентов о магазине, что позволит увеличить количество заказов</td>\n",
       "      <td id=\"T_351b1_row7_col1\" class=\"data row7 col1\" >1.3</td>\n",
       "      <td id=\"T_351b1_row7_col2\" class=\"data row7 col2\" >4.0</td>\n",
       "    </tr>\n",
       "    <tr>\n",
       "      <th id=\"T_351b1_level0_row8\" class=\"row_heading level0 row8\" >4</th>\n",
       "      <td id=\"T_351b1_row8_col0\" class=\"data row8 col0\" >Изменить цвет фона главной страницы, чтобы увеличить вовлеченность пользователей</td>\n",
       "      <td id=\"T_351b1_row8_col1\" class=\"data row8 col1\" >1.0</td>\n",
       "      <td id=\"T_351b1_row8_col2\" class=\"data row8 col2\" >3.0</td>\n",
       "    </tr>\n",
       "  </tbody>\n",
       "</table>\n"
      ],
      "text/plain": [
       "<pandas.io.formats.style.Styler at 0x7fdc4269cdf0>"
      ]
     },
     "execution_count": 22,
     "metadata": {},
     "output_type": "execute_result"
    }
   ],
   "source": [
    "hypothesis[['hypothesis', 'ICE', 'RICE']] = hypothesis[['hypothesis', 'ICE', 'RICE']].round({'ICE': 1, 'RICE': 1})\n",
    "hypothesis[['hypothesis', 'ICE', 'RICE']].sort_values(by='RICE', ascending=False).style.background_gradient(cmap='PuRd', low=0, high=1, subset=['ICE', 'RICE']).format({'ICE': '{:.1f}', 'RICE': '{:.1f}'})"
   ]
  },
  {
   "cell_type": "markdown",
   "id": "f58bb6a2",
   "metadata": {},
   "source": [
    "`Notes`\n",
    "\n",
    "The RICE method left the same hypotheses in the top five as shown by the ICE method, but changed their order. The reason is that the coverage metric had a strong impact on the ranking and positioned the hypotheses more correctly."
   ]
  },
  {
   "cell_type": "markdown",
   "id": "8da34d58",
   "metadata": {},
   "source": [
    "### A/B test analysis. Graph of cumulative revenue by groups.\n",
    "\n",
    "Let's build a cumulativeData table based on orders and visitors. Table structure: each date in August 2019 will correspond to test group A or B and values ​​with the accumulation of the number of orders, the number of buyers, the amount of revenue, the number of visitors."
   ]
  },
  {
   "cell_type": "code",
   "execution_count": 23,
   "id": "e7859851",
   "metadata": {},
   "outputs": [
    {
     "data": {
      "text/html": [
       "<div>\n",
       "<style scoped>\n",
       "    .dataframe tbody tr th:only-of-type {\n",
       "        vertical-align: middle;\n",
       "    }\n",
       "\n",
       "    .dataframe tbody tr th {\n",
       "        vertical-align: top;\n",
       "    }\n",
       "\n",
       "    .dataframe thead th {\n",
       "        text-align: right;\n",
       "    }\n",
       "</style>\n",
       "<table border=\"1\" class=\"dataframe\">\n",
       "  <thead>\n",
       "    <tr style=\"text-align: right;\">\n",
       "      <th></th>\n",
       "      <th>date</th>\n",
       "      <th>group</th>\n",
       "      <th>orders</th>\n",
       "      <th>buyers</th>\n",
       "      <th>revenue</th>\n",
       "      <th>visitors</th>\n",
       "    </tr>\n",
       "  </thead>\n",
       "  <tbody>\n",
       "    <tr>\n",
       "      <th>0</th>\n",
       "      <td>2019-08-01</td>\n",
       "      <td>A</td>\n",
       "      <td>24</td>\n",
       "      <td>20</td>\n",
       "      <td>148579</td>\n",
       "      <td>719</td>\n",
       "    </tr>\n",
       "    <tr>\n",
       "      <th>1</th>\n",
       "      <td>2019-08-01</td>\n",
       "      <td>B</td>\n",
       "      <td>21</td>\n",
       "      <td>20</td>\n",
       "      <td>101217</td>\n",
       "      <td>713</td>\n",
       "    </tr>\n",
       "    <tr>\n",
       "      <th>2</th>\n",
       "      <td>2019-08-02</td>\n",
       "      <td>A</td>\n",
       "      <td>44</td>\n",
       "      <td>38</td>\n",
       "      <td>242401</td>\n",
       "      <td>1338</td>\n",
       "    </tr>\n",
       "    <tr>\n",
       "      <th>3</th>\n",
       "      <td>2019-08-02</td>\n",
       "      <td>B</td>\n",
       "      <td>45</td>\n",
       "      <td>43</td>\n",
       "      <td>266748</td>\n",
       "      <td>1294</td>\n",
       "    </tr>\n",
       "  </tbody>\n",
       "</table>\n",
       "</div>"
      ],
      "text/plain": [
       "        date group  orders  buyers  revenue  visitors\n",
       "0 2019-08-01     A      24      20   148579       719\n",
       "1 2019-08-01     B      21      20   101217       713\n",
       "2 2019-08-02     A      44      38   242401      1338\n",
       "3 2019-08-02     B      45      43   266748      1294"
      ]
     },
     "execution_count": 23,
     "metadata": {},
     "output_type": "execute_result"
    }
   ],
   "source": [
    "# sort orders by date and group, so each date will be assigned a group.\n",
    "# For every unique day, there is an A and there is a B.\n",
    "datesGroups = orders[['date','group']].drop_duplicates()\n",
    "\n",
    "# create two tables based on orders and visitors with cumulative totals for datesGroups rows\n",
    "ordersAggregated = datesGroups.apply(lambda x: orders[np.logical_and(orders['date'] <= x['date'], orders['group'] == x['group'])].agg({'date' : 'max', 'group' : 'max', 'transaction_id' : 'nunique', 'visitor_id' : 'nunique', 'revenue' : 'sum'}),axis=1).sort_values(by=['date','group'])\n",
    "visitorsAggregated = datesGroups.apply(lambda x: visitors[np.logical_and(visitors['date'] <= x['date'], visitors['group'] == x['group'])].agg({'date' : 'max', 'group' : 'max', 'visitors' : 'sum'}), axis=1).sort_values(by=['date','group'])\n",
    "\n",
    "# combine ordersAggregated and visitorsAggregated\n",
    "cumulativeData = ordersAggregated.merge(visitorsAggregated, left_on=['date', 'group'], right_on=['date', 'group'])\n",
    "cumulativeData.columns = ['date', 'group', 'orders', 'buyers', 'revenue', 'visitors']\n",
    "\n",
    "cumulativeData.head(4)\n"
   ]
  },
  {
   "cell_type": "markdown",
   "id": "d139a0f7",
   "metadata": {},
   "source": [
    "**Important!**\n",
    "\n",
    "Earlier we found out that the orders table contains duplicate orders by group, overlapping orders for the same customers. We created the orders_clean table by deleting the values of these buyers. In order not to clutter up the project, we will check the values for the orders_clean table in parallel in the copy of the notebook. If the values will significantly change the values of the original orders, then we will reflect this in this project."
   ]
  },
  {
   "cell_type": "markdown",
   "id": "8d62a41b",
   "metadata": {},
   "source": [
    "### Chart of cumulative revenue by groups"
   ]
  },
  {
   "cell_type": "code",
   "execution_count": 24,
   "id": "d3804187",
   "metadata": {},
   "outputs": [
    {
     "data": {
      "image/png": "[encoded data removed]",
      "text/plain": [
       "<Figure size 640x480 with 1 Axes>"
      ]
     },
     "metadata": {},
     "output_type": "display_data"
    }
   ],
   "source": [
    "cumulativeRevenueA = cumulativeData[cumulativeData['group']=='A'][['date','revenue', 'orders']]\n",
    "\n",
    "cumulativeRevenueB = cumulativeData[cumulativeData['group']=='B'][['date','revenue', 'orders']]\n",
    "\n",
    "plt.plot(cumulativeRevenueA['date'], cumulativeRevenueA['revenue'], label='A')\n",
    "\n",
    "plt.plot(cumulativeRevenueB['date'], cumulativeRevenueB['revenue'], label='B')\n",
    "plt.title('Dynamics of accumulative revenue')\n",
    "plt.ylabel(\"Revenue in rubles\")\n",
    "plt.xticks(rotation=45)\n",
    "plt.grid(True)\n",
    "plt.legend();"
   ]
  },
  {
   "cell_type": "markdown",
   "id": "9f9715c3",
   "metadata": {},
   "source": [
    "`Notes`\n",
    "\n",
    "- Group B dominates in terms of revenue. A confident separation from group A occurred on the 13th day of the test. A sharp jump in values on days 18-19 could have happened due to \"outliers\" - orders that were too expensive. Let's check this further."
   ]
  },
  {
   "cell_type": "markdown",
   "id": "cc7a88a7",
   "metadata": {},
   "source": [
    "### Graph of the cumulative average bill by groups"
   ]
  },
  {
   "cell_type": "code",
   "execution_count": 25,
   "id": "725e7914",
   "metadata": {},
   "outputs": [
    {
     "data": {
      "image/png": "[encoded data removed]",
      "text/plain": [
       "<Figure size 640x480 with 1 Axes>"
      ]
     },
     "metadata": {},
     "output_type": "display_data"
    }
   ],
   "source": [
    "plt.plot(cumulativeRevenueA['date'], cumulativeRevenueA['revenue']/cumulativeRevenueA['orders'], label='A')\n",
    "plt.plot(cumulativeRevenueB['date'], cumulativeRevenueB['revenue']/cumulativeRevenueB['orders'], label='B')\n",
    "plt.title('Dynamics of the cumulative average ticket')\n",
    "plt.ylabel(\"Check in rubles\")\n",
    "plt.xticks(rotation=45)\n",
    "plt.grid(True)\n",
    "plt.legend();"
   ]
  },
  {
   "cell_type": "markdown",
   "id": "8c8bd125",
   "metadata": {},
   "source": [
    "`Notes`\n",
    "\n",
    "- The average check \"jumps\" the first two weeks, then stabilizes. Outliers in group B prevent us from assessing the chart correctly. Without them, we would probably also see stabilization in this group."
   ]
  },
  {
   "cell_type": "markdown",
   "id": "f64b9059",
   "metadata": {},
   "source": [
    "### Graph of the relative change in the cumulative average check of group B to group A"
   ]
  },
  {
   "cell_type": "code",
   "execution_count": 26,
   "id": "459ab156",
   "metadata": {},
   "outputs": [
    {
     "data": {
      "image/png": "[encoded data removed]",
      "text/plain": [
       "<Figure size 640x480 with 1 Axes>"
      ]
     },
     "metadata": {},
     "output_type": "display_data"
    }
   ],
   "source": [
    "mergedCumulativeRevenue = cumulativeRevenueA.merge(cumulativeRevenueB, left_on='date', right_on='date', how='left', suffixes=['A', 'B'])\n",
    "\n",
    "plt.plot(mergedCumulativeRevenue['date'], (mergedCumulativeRevenue['revenueB']/mergedCumulativeRevenue['ordersB'])/(mergedCumulativeRevenue['revenueA']/mergedCumulativeRevenue['ordersA'])-1)\n",
    "\n",
    "plt.axhline(y=0, color='black', linestyle='--');\n",
    "plt.title('Relative change in the average check of group B to A')\n",
    "plt.xticks(rotation=45)\n",
    "plt.grid(True)"
   ]
  },
  {
   "cell_type": "markdown",
   "id": "e340736c",
   "metadata": {},
   "source": [
    "`Notes`\n",
    "\n",
    "- y = 0 is the base change point. If the graph is above this line, this means that group B has a higher average check than group A. If the graph is below the line, this means that group B has a lower average check than group A. Except for two points (beginning of the experiment and after two weeks from the start of the experiment), group B has a higher average check. It is difficult to estimate correctly due to outliers. Let's look at this further on data without anomalies."
   ]
  },
  {
   "cell_type": "markdown",
   "id": "664a8c71",
   "metadata": {},
   "source": [
    "### Graph of the cumulative average number of orders per visitor by group"
   ]
  },
  {
   "cell_type": "code",
   "execution_count": 27,
   "id": "4c8a6581",
   "metadata": {},
   "outputs": [
    {
     "data": {
      "image/png": "[encoded data removed]",
      "text/plain": [
       "<Figure size 640x480 with 1 Axes>"
      ]
     },
     "metadata": {},
     "output_type": "display_data"
    }
   ],
   "source": [
    "cumulativeData['avg'] = cumulativeData['orders']/cumulativeData['visitors']\n",
    "\n",
    "cumulativeDataA = cumulativeData[cumulativeData['group']=='A']\n",
    "cumulativeDataB = cumulativeData[cumulativeData['group']=='B']\n",
    "\n",
    "plt.plot(cumulativeDataA['date'], cumulativeDataA['avg'], label='A')\n",
    "plt.plot(cumulativeDataB['date'], cumulativeDataB['avg'], label='B')\n",
    "plt.title('Cumulative average orders per visitor')\n",
    "plt.ylabel('The ratio of the number of orders to the number of visitors')\n",
    "plt.xticks(rotation=45)\n",
    "plt.grid(True)\n",
    "plt.legend()\n",
    "plt.axis([\"2019-08-01\", '2019-09-01', 0.02, 0.05]);"
   ]
  },
  {
   "cell_type": "markdown",
   "id": "1a4292a5",
   "metadata": {},
   "source": [
    "`Notes`\n",
    "\n",
    "- The line of group B is above the line of group A, which means that group B had more orders per visitor than group A. At the beginning of the experiment, the values fluctuated, but by day 10 the situation leveled off. It's also important to remember that we don't have information about whether visitors are unique. In our case, the same person could be a visitor several times."
   ]
  },
  {
   "cell_type": "markdown",
   "id": "5f827fea",
   "metadata": {},
   "source": [
    "### Graph of the relative change in the cumulative average number of orders per visitor of group B to group A"
   ]
  },
  {
   "cell_type": "code",
   "execution_count": 28,
   "id": "5d8cb175",
   "metadata": {},
   "outputs": [
    {
     "data": {
      "image/png": "[encoded data removed]",
      "text/plain": [
       "<Figure size 640x480 with 1 Axes>"
      ]
     },
     "metadata": {},
     "output_type": "display_data"
    }
   ],
   "source": [
    "mergedCumulative_avg = cumulativeDataA[['date','avg']].merge(cumulativeDataB[['date','avg']], left_on='date', right_on='date', how='left', suffixes=['A', 'B'])\n",
    "\n",
    "plt.plot(mergedCumulative_avg['date'], mergedCumulative_avg['avgB']/mergedCumulative_avg['avgA']-1)\n",
    "plt.xticks(rotation=45)\n",
    "plt.grid(True)\n",
    "plt.title('Relates changes in the cumulative average number of orders per visitor gr. B to gr. A')\n",
    "\n",
    "plt.axhline(y=0, color='red', linestyle='--');\n",
    "plt.axhline(y=0.10, color='green', linestyle='--');"
   ]
  },
  {
   "cell_type": "markdown",
   "id": "1b0ef2c3",
   "metadata": {},
   "source": [
    "`Notes`\n",
    "\n",
    "- The relative growth of group B began with a negative value, then leveled off and continues to increase in the future.\n",
    "\n",
    "- Group B growth is above 10% for most of the time, which may indicate that this growth is stable."
   ]
  },
  {
   "cell_type": "markdown",
   "id": "835e45b5",
   "metadata": {},
   "source": [
    "### Scatter plot of the number of orders by customers\n",
    "\n",
    "Let's see how many orders per customer. Let's build a scatterplot and calculate the 95th and 99th percentiles. Let's group the data of the orders table by users and calculate the unique number of orders for each."
   ]
  },
  {
   "cell_type": "code",
   "execution_count": 29,
   "id": "7d9ce879",
   "metadata": {},
   "outputs": [
    {
     "data": {
      "image/png": "[encoded data removed]",
      "text/plain": [
       "<Figure size 640x480 with 1 Axes>"
      ]
     },
     "metadata": {},
     "output_type": "display_data"
    }
   ],
   "source": [
    "count_orders = orders.groupby('visitor_id', as_index=False).agg({'transaction_id':'nunique'})\n",
    "point_orders = pd.Series(range(0, len(count_orders['transaction_id'])))\n",
    "\n",
    "plt.scatter(point_orders, count_orders['transaction_id']);\n",
    "plt.grid(True)\n",
    "plt.ylabel(\"Number of orders\")\n",
    "plt.title('Number of orders by customer');"
   ]
  },
  {
   "cell_type": "code",
   "execution_count": 30,
   "id": "5dfd928a",
   "metadata": {},
   "outputs": [
    {
     "name": "stdout",
     "output_type": "stream",
     "text": [
      "[2. 4.]\n"
     ]
    }
   ],
   "source": [
    "# calculation of 95th and 99th percentiles.\n",
    "print(np.percentile(count_orders['transaction_id'], [95, 99]))"
   ]
  },
  {
   "cell_type": "markdown",
   "id": "06fce592",
   "metadata": {},
   "source": [
    "**Important!**\n",
    "\n",
    "Since we will use this data to clean up outliers, let's see how orders will be distributed according to the data from the orders_clean table"
   ]
  },
  {
   "cell_type": "code",
   "execution_count": 31,
   "id": "1233f479",
   "metadata": {},
   "outputs": [
    {
     "data": {
      "image/png": "[encoded data removed]",
      "text/plain": [
       "<Figure size 640x480 with 1 Axes>"
      ]
     },
     "metadata": {},
     "output_type": "display_data"
    }
   ],
   "source": [
    "count_orders_clean = orders_clean.groupby('visitor_id', as_index=False).agg({'transaction_id':'nunique'})\n",
    "point_orders_clean = pd.Series(range(0, len(count_orders_clean['transaction_id'])))\n",
    "\n",
    "plt.scatter(point_orders_clean, count_orders_clean['transaction_id']);\n",
    "plt.grid(True)\n",
    "plt.ylabel(\"Number of orders\")\n",
    "plt.title('Number of orders by customer');"
   ]
  },
  {
   "cell_type": "code",
   "execution_count": 32,
   "id": "072f2492",
   "metadata": {},
   "outputs": [
    {
     "name": "stdout",
     "output_type": "stream",
     "text": [
      "[1. 2.]\n"
     ]
    }
   ],
   "source": [
    "# calculation of 95th and 99th percentiles.\n",
    "print(np.percentile(count_orders_clean['transaction_id'], [95, 99]))"
   ]
  },
  {
   "cell_type": "markdown",
   "id": "8caf51df",
   "metadata": {},
   "source": [
    "`Notes`\n",
    "\n",
    "- Data without overlapping customers showed that no more than 5% of people made more than 2 orders. All the anomalous orders we saw in the initial orders data are gone. That is why for further analysis we will take the value of the number of orders - no more than 2."
   ]
  },
  {
   "cell_type": "markdown",
   "id": "4f533e98",
   "metadata": {},
   "source": [
    "### Scatter plot of order values"
   ]
  },
  {
   "cell_type": "code",
   "execution_count": 33,
   "id": "3417cfbb",
   "metadata": {},
   "outputs": [
    {
     "data": {
      "image/png": "[encoded data removed]",
      "text/plain": [
       "<Figure size 640x480 with 1 Axes>"
      ]
     },
     "metadata": {},
     "output_type": "display_data"
    }
   ],
   "source": [
    "revenue_ = pd.Series(range(0, len(orders['revenue'])))\n",
    "\n",
    "plt.scatter(revenue_, orders['revenue'], color='blue', alpha=0.5);\n",
    "plt.grid(True)\n",
    "plt.ylabel(\"Order cost\")\n",
    "plt.title('Distribution of the cost of orders by users');"
   ]
  },
  {
   "cell_type": "code",
   "execution_count": 34,
   "id": "017c11f1",
   "metadata": {},
   "outputs": [
    {
     "data": {
      "text/plain": [
       "count    1.197000e+03\n",
       "mean     8.348006e+03\n",
       "std      3.919113e+04\n",
       "min      5.000000e+01\n",
       "25%      1.220000e+03\n",
       "50%      2.978000e+03\n",
       "75%      8.290000e+03\n",
       "max      1.294500e+06\n",
       "Name: revenue, dtype: float64"
      ]
     },
     "execution_count": 34,
     "metadata": {},
     "output_type": "execute_result"
    }
   ],
   "source": [
    "orders['revenue'].describe()"
   ]
  },
  {
   "cell_type": "markdown",
   "id": "91808a62",
   "metadata": {},
   "source": [
    "`Notes`\n",
    "\n",
    "- Almost all orders are up to 150 thousand. But there are two expensive orders that are not characteristic of the general group. Let's look at them, perhaps these are the \"outliers\" that prevented us from drawing conclusions about revenue and the average check."
   ]
  },
  {
   "cell_type": "code",
   "execution_count": 35,
   "id": "8598a0b2",
   "metadata": {},
   "outputs": [
    {
     "data": {
      "text/html": [
       "<div>\n",
       "<style scoped>\n",
       "    .dataframe tbody tr th:only-of-type {\n",
       "        vertical-align: middle;\n",
       "    }\n",
       "\n",
       "    .dataframe tbody tr th {\n",
       "        vertical-align: top;\n",
       "    }\n",
       "\n",
       "    .dataframe thead th {\n",
       "        text-align: right;\n",
       "    }\n",
       "</style>\n",
       "<table border=\"1\" class=\"dataframe\">\n",
       "  <thead>\n",
       "    <tr style=\"text-align: right;\">\n",
       "      <th></th>\n",
       "      <th>transaction_id</th>\n",
       "      <th>visitor_id</th>\n",
       "      <th>date</th>\n",
       "      <th>revenue</th>\n",
       "      <th>group</th>\n",
       "    </tr>\n",
       "  </thead>\n",
       "  <tbody>\n",
       "    <tr>\n",
       "      <th>425</th>\n",
       "      <td>590470918</td>\n",
       "      <td>1920142716</td>\n",
       "      <td>2019-08-19</td>\n",
       "      <td>1294500</td>\n",
       "      <td>B</td>\n",
       "    </tr>\n",
       "    <tr>\n",
       "      <th>1196</th>\n",
       "      <td>3936777065</td>\n",
       "      <td>2108080724</td>\n",
       "      <td>2019-08-15</td>\n",
       "      <td>202740</td>\n",
       "      <td>B</td>\n",
       "    </tr>\n",
       "  </tbody>\n",
       "</table>\n",
       "</div>"
      ],
      "text/plain": [
       "      transaction_id  visitor_id       date  revenue group\n",
       "425        590470918  1920142716 2019-08-19  1294500     B\n",
       "1196      3936777065  2108080724 2019-08-15   202740     B"
      ]
     },
     "execution_count": 35,
     "metadata": {},
     "output_type": "execute_result"
    }
   ],
   "source": [
    "orders[orders['revenue']>150000]"
   ]
  },
  {
   "cell_type": "markdown",
   "id": "1c254c28",
   "metadata": {},
   "source": [
    "`Notes`\n",
    "\n",
    "- The anomalously expensive order of August 19 falls on group B. It was he who \"spoiled\" the revenue charts. The order dated August 15 also affected the results, but not as catastrophically as the order for 1.3 million rubles.\n",
    "\n",
    "- Let's build a schedule without taking into account abnormal orders. And let's calculate the 95th and 99th percentiles to define the boundary for the anomalies."
   ]
  },
  {
   "cell_type": "code",
   "execution_count": 36,
   "id": "da1bd7a6",
   "metadata": {},
   "outputs": [
    {
     "data": {
      "image/png": "[encoded data removed]",
      "text/plain": [
       "<Figure size 640x480 with 1 Axes>"
      ]
     },
     "metadata": {},
     "output_type": "display_data"
    }
   ],
   "source": [
    "plt.ylim(0, 150000)\n",
    "plt.scatter(revenue_, orders['revenue'], color='green', alpha=0.5)\n",
    "plt.title('Distribution of order costs among users without anomalies')\n",
    "plt.grid(True)\n",
    "plt.ylabel(\"Order cost\");"
   ]
  },
  {
   "cell_type": "code",
   "execution_count": 37,
   "id": "5919fbcf",
   "metadata": {},
   "outputs": [
    {
     "name": "stdout",
     "output_type": "stream",
     "text": [
      "[28000.  58233.2]\n"
     ]
    }
   ],
   "source": [
    "print(np.percentile(orders['revenue'], [95, 99])) "
   ]
  },
  {
   "cell_type": "markdown",
   "id": "13cce237",
   "metadata": {},
   "source": [
    "Let's calculate the percentile for orders_clean."
   ]
  },
  {
   "cell_type": "code",
   "execution_count": 38,
   "id": "66608dbc",
   "metadata": {},
   "outputs": [
    {
     "name": "stdout",
     "output_type": "stream",
     "text": [
      "[26785. 53904.]\n"
     ]
    }
   ],
   "source": [
    "print(np.percentile(orders_clean['revenue'], [95, 99])) "
   ]
  },
  {
   "cell_type": "markdown",
   "id": "d45de489",
   "metadata": {},
   "source": [
    "`Notes`\n",
    "\n",
    "For orders_clean, the order value for the 99th percentile decreased and amounted to 53,904 rubles. We will make this value the boundary for cutting off anomalies."
   ]
  },
  {
   "cell_type": "markdown",
   "id": "1e84b7b4",
   "metadata": {},
   "source": [
    "### Calculate the statistical significance of differences in the average number of orders per visitor.\n",
    "\n",
    "In the calculation between groups A and B, we use \"raw\" data, including abnormal values for the number of orders and their amount.\n",
    "\n",
    "Let's formulate hypotheses. Zero: There is no difference in the average number of orders between groups. Alternative: there are differences in the average between groups. Let's set p-value - 0.05."
   ]
  },
  {
   "cell_type": "code",
   "execution_count": 39,
   "id": "a88172c5",
   "metadata": {},
   "outputs": [],
   "source": [
    "# Create tables with the number of visitors for each unique day without accumulation for each group.\n",
    "visitorsADaily = visitors[visitors['group'] == 'A'].rename(columns={'visitors': 'visitorsPerDateA'})[['date', 'visitorsPerDateA']]\n",
    "visitorsBDaily = visitors[visitors['group'] == 'B'].rename(columns={'visitors': 'visitorsPerDateB'})[['date', 'visitorsPerDateB']]\n",
    "\n",
    "# Let's create tables for each group, in which each unique customer will correspond to the number of purchases made by them.\n",
    "ordersByUsersA = orders[orders['group'] == 'A'].groupby('visitor_id', as_index=False)['transaction_id'].nunique().rename(columns={'transaction_id': 'orders'})\n",
    "ordersByUsersB = orders[orders['group'] == 'B'].groupby('visitor_id', as_index=False)['transaction_id'].nunique().rename(columns={'transaction_id': 'orders'})"
   ]
  },
  {
   "cell_type": "markdown",
   "id": "4750ab95",
   "metadata": {},
   "source": [
    "Obviously, there are more visitors than buyers, so we need to add rows with zeros to the ordersByUsersA and ordersByUsersB tables, so that when calculating the average, the amount of orders is divided by the number of visitors."
   ]
  },
  {
   "cell_type": "code",
   "execution_count": 40,
   "id": "08f13aba",
   "metadata": {},
   "outputs": [
    {
     "name": "stdout",
     "output_type": "stream",
     "text": [
      "p-value: 0.017\n",
      "Relative difference between the average number of orders of group B to A: 13.8%\n"
     ]
    }
   ],
   "source": [
    "# Calculate sample values of sampleA\n",
    "sampleA = pd.concat([ordersByUsersA['orders'],\n",
    "                      pd.Series(0, \n",
    "                                index=np.arange(visitorsADaily['visitorsPerDateA'].sum() - len(ordersByUsersA['orders'])), \n",
    "                                name='orders')], \n",
    "                     axis=0)\n",
    "\n",
    "# Calculation of sample values of sampleB\n",
    "sampleB = pd.concat([ordersByUsersB['orders'],\n",
    "                      pd.Series(0, \n",
    "                                index=np.arange(visitorsBDaily['visitorsPerDateB'].sum() - len(ordersByUsersB['orders'])), \n",
    "                                name='orders')], \n",
    "                     axis=0)\n",
    "\n",
    "# Output p-value calculated using the Mann-Whitney test\n",
    "p_value = stats.mannwhitneyu(sampleA, sampleB)[1]\n",
    "print(\"p-value: {0:.3f}\".format(p_value))\n",
    "\n",
    "# Display the relative difference between the means of two samples\n",
    "relative_difference = sampleB.mean() / sampleA.mean() - 1\n",
    "print(\"Relative difference between the average number of orders of group B to A: {0:.1f}%\".format(relative_difference * 100))\n"
   ]
  },
  {
   "cell_type": "markdown",
   "id": "949538dc",
   "metadata": {},
   "source": [
    "`Notes`\n",
    "- When calculating the statistical significance of differences in the average number of orders per visitor between groups according to \"raw\" data, if the p-value is 0.05, then we can conclude that the differences between groups are statistically significant. In this case, the p-value is 0.017, which is less than 0.05, hence the null hypothesis is rejected. The null hypothesis was that there were no differences in the average number of orders between groups. And we have differences.\n",
    "\n",
    "- In addition, the value of 13.8%, obtained from calculating the ratio of the average number of orders per visitor in group B to the average number of orders per visitor in group A, suggests that the number of orders in group B is 13.8% higher than in group A. We also saw this on the chart.\n",
    "\n",
    "- For your information: the values in the orders_clean table are 0.011 and 16%, respectively. It does not fundamentally change anything, but in this variant group B is already 16% better than group A.\n",
    "\n",
    "**Let's prove it by calculations on the table without intersecting orders orders_clean.**"
   ]
  },
  {
   "cell_type": "code",
   "execution_count": 41,
   "id": "2407291f",
   "metadata": {},
   "outputs": [
    {
     "name": "stdout",
     "output_type": "stream",
     "text": [
      "p-value: 0.011\n",
      "The relative difference between the average number of orders of group B to A: 16%\n"
     ]
    }
   ],
   "source": [
    "# Let's create tables for each group, in which each unique customer will correspond to the number of purchases made by them.\n",
    "ordersByUsersA_ = orders_clean[orders_clean['group'] == 'A'].groupby('visitor_id', as_index=False)['transaction_id'].nunique().rename(columns={'transaction_id': 'orders'})\n",
    "ordersByUsersB_ = orders_clean[orders_clean['group'] == 'B'].groupby('visitor_id', as_index=False)['transaction_id'].nunique().rename(columns={'transaction_id': 'orders'})\n",
    "\n",
    "# Calculate sample values of sampleA\n",
    "sampleA_ = pd.concat([ordersByUsersA_['orders'],\n",
    "                      pd.Series(0, \n",
    "                                index=np.arange(visitorsADaily['visitorsPerDateA'].sum() - len(ordersByUsersA_['orders'])), \n",
    "                                name='orders')], \n",
    "                     axis=0)\n",
    "\n",
    "# Calculation of sample values of sampleB\n",
    "sampleB_ = pd.concat([ordersByUsersB_['orders'],\n",
    "                      pd.Series(0, \n",
    "                                index=np.arange(visitorsBDaily['visitorsPerDateB'].sum() - len(ordersByUsersB_['orders'])), \n",
    "                                name='orders')], \n",
    "                     axis=0)\n",
    "\n",
    "# Output p-value calculated using the Mann-Whitney test\n",
    "p_value = stats.mannwhitneyu(sampleA_, sampleB_)[1]\n",
    "print(\"p-value: {0:.3f}\".format(p_value))\n",
    "\n",
    "# Display the relative difference between the means of two samples\n",
    "relative_difference_ = sampleB_.mean() / sampleA_.mean() - 1\n",
    "print(\"The relative difference between the average number of orders of group B to A: {0:.0f}%\".format(relative_difference_ * 100))\n"
   ]
  },
  {
   "cell_type": "markdown",
   "id": "31471ed7",
   "metadata": {},
   "source": [
    "### We consider the statistical significance of differences in the average order receipt between groups according to \"raw\" data"
   ]
  },
  {
   "cell_type": "markdown",
   "id": "4ae574c4",
   "metadata": {},
   "source": [
    "Let's look at the statistical significance of the differences in the average check between A and B.\n",
    "\n",
    "Null hypothesis: there are no differences in the average check between groups. Alternative hypothesis: there are differences in the average bill between groups. Let's set p-value - 0.05.\n",
    "\n",
    "We will also find relative differences in the average check between groups:"
   ]
  },
  {
   "cell_type": "code",
   "execution_count": 42,
   "id": "3d07b56f",
   "metadata": {},
   "outputs": [
    {
     "name": "stdout",
     "output_type": "stream",
     "text": [
      "p-value: 0.729\n",
      "Relative difference in the average check of group B to A: 25.9%\n"
     ]
    }
   ],
   "source": [
    "print(\"p-value: {0:.3f}\".format(stats.mannwhitneyu(orders[orders['group']=='A']['revenue'], orders[orders['group']=='B']['revenue'])[1]))\n",
    "print(\"Relative difference in the average check of group B to A: {0:.1f}%\".format((orders[orders['group']=='B']['revenue'].mean()/orders[orders['group']=='A']['revenue'].mean()-1)*100))"
   ]
  },
  {
   "cell_type": "markdown",
   "id": "f6b8b2ee",
   "metadata": {},
   "source": [
    "`Notes`\n",
    "\n",
    "- The probability of obtaining differences (p-value) is higher than the given significance level (0.05), so we cannot reject the null hypothesis and conclude that there are statistically significant differences between the samples. There are no differences.\n",
    "\n",
    "- In addition, the value of 25.9, obtained from calculating the ratio of the average check in group B to the average check in group A, indicates that the average check in group B is 25.9% higher than in group A. It is important to remember the \"expensive\" orders in group B here.\n",
    "\n",
    "- For your information: the values in the orders_clean table are 0.829 and 28.7, respectively. There are no cardinal differences."
   ]
  },
  {
   "cell_type": "markdown",
   "id": "4a6d2c5d",
   "metadata": {},
   "source": [
    "### We consider the statistical significance of differences in the average number of orders per visitor between groups according to the \"cleaned\" data"
   ]
  },
  {
   "cell_type": "markdown",
   "id": "e8169432",
   "metadata": {},
   "source": [
    "Previously, we defined what we would consider \"outliers\" for the number of orders per user 2 (99th percentile in the orders_clean table). For order value: 53904 (99th percentile for orders_clean).\n",
    "\n",
    "Let's make cuts of users with more than 2 orders - order_big and users who have made orders more than 53904 - revenue_big. Let's combine them in the abnormal table."
   ]
  },
  {
   "cell_type": "code",
   "execution_count": 43,
   "id": "93e5bff1",
   "metadata": {},
   "outputs": [],
   "source": [
    "order_big = pd.concat(\n",
    "    [\n",
    "        ordersByUsersA[ordersByUsersA['orders'] > 2]['visitor_id'],\n",
    "        ordersByUsersB[ordersByUsersB['orders'] > 2]['visitor_id'],\n",
    "    ],\n",
    "    axis=0,\n",
    ")\n",
    "revenue_big = orders[orders['revenue'] > 53904]['visitor_id']\n",
    "abnormal = (\n",
    "    pd.concat([order_big, revenue_big], axis=0)\n",
    "    .drop_duplicates()\n",
    "    .sort_values()\n",
    ")"
   ]
  },
  {
   "cell_type": "markdown",
   "id": "8675a2d9",
   "metadata": {},
   "source": [
    "Let us calculate the statistical significance of differences in the average number of orders without abnormal values.\n",
    "\n",
    "In the calculation between groups A and B, we use \"cleaned\" data, without abnormal values in terms of the number of orders and their amount.\n",
    "\n",
    "Let's formulate hypotheses, they will be the same as for \"raw\" data. Our task is to understand how emissions affect the final result.\n",
    "\n",
    "Null hypothesis: there is no difference in the average number of orders between groups. Alternative: there are differences in the average between groups. Let's set p-value - 0.05."
   ]
  },
  {
   "cell_type": "code",
   "execution_count": 44,
   "id": "18637d9a",
   "metadata": {},
   "outputs": [
    {
     "name": "stdout",
     "output_type": "stream",
     "text": [
      "p-value: 0.012\n",
      "Relative difference between the average value of the number of orders of group B to A: 16.9%\n"
     ]
    }
   ],
   "source": [
    "sampleA_clean = pd.concat([ordersByUsersA[np.logical_not(ordersByUsersA['visitor_id'].isin(abnormal))]['orders'],pd.Series(0, index=np.arange(visitorsADaily['visitorsPerDateA'].sum()- len(ordersByUsersA['orders'])), name='orders')],axis=0)\n",
    "sampleB_clean = pd.concat([ordersByUsersB[np.logical_not(ordersByUsersB['visitor_id'].isin(abnormal))]['orders'],pd.Series(0, index=np.arange(visitorsBDaily['visitorsPerDateB'].sum()- len(ordersByUsersA['orders'])), name='orders')],axis=0)\n",
    "\n",
    "print(\"p-value: {0:.3f}\".format(stats.mannwhitneyu(sampleA_clean, sampleB_clean)[1]))\n",
    "print(\"Relative difference between the average value of the number of orders of group B to A: {0:.1f}%\".format((sampleB_clean.mean()/sampleA_clean.mean()-1)*100))"
   ]
  },
  {
   "cell_type": "markdown",
   "id": "21e077fb",
   "metadata": {},
   "source": [
    "`Notes`\n",
    "\n",
    "- Statistically significant decreased slightly compared to calculations with \"outliers\" taken into account. Thus, the differences between the groups are still statistically significant. We reject the null hypothesis.\n",
    "\n",
    "- The ratio of average bookings per visitor in Group B to average bookings per visitor in Group A increased by almost 3 percent. This means that the relative differences in the average number of orders in group B on cleaned data without anomalies are 16.9% higher than in group A.\n",
    "\n",
    "- For your information: the values in the orders_clean table are 0.009 and 0.184, respectively. There are no cardinal differences."
   ]
  },
  {
   "cell_type": "markdown",
   "id": "eaa16236",
   "metadata": {},
   "source": [
    "### Calculate the statistical significance of differences in the average order receipt between groups without taking into account anomalies"
   ]
  },
  {
   "cell_type": "markdown",
   "id": "a0307946",
   "metadata": {},
   "source": [
    "Let's look at the statistical significance of the differences in the average check between A and B on the data without anomalies.\n",
    "\n",
    "Null hypothesis: there are no differences in the average check between groups. Alternative hypothesis: there are differences in the average bill between groups. Let's set p-value - 0.05.\n",
    "\n",
    "We will also find relative differences in the average check between groups:"
   ]
  },
  {
   "cell_type": "code",
   "execution_count": 45,
   "id": "f4494abe",
   "metadata": {},
   "outputs": [
    {
     "name": "stdout",
     "output_type": "stream",
     "text": [
      "p-value 0.798\n",
      "Relative difference in the average check of group B to A:-2%\n"
     ]
    }
   ],
   "source": [
    "print(\"p-value {0:.3f}\".format(\n",
    "    stats.mannwhitneyu(\n",
    "        orders[np.logical_and(\n",
    "            orders['group'] == 'A',\n",
    "            np.logical_not(orders['visitor_id'].isin(abnormal))\n",
    "        )]['revenue'],\n",
    "        orders[np.logical_and(\n",
    "            orders['group'] == 'B',\n",
    "            np.logical_not(orders['visitor_id'].isin(abnormal))\n",
    "        )]['revenue']\n",
    "    )[1]\n",
    "))\n",
    "\n",
    "\n",
    "print(\"Relative difference in the average check of group B to A:{0:.0f}%\".format((\n",
    "    orders[np.logical_and(\n",
    "        orders['group'] == 'B',\n",
    "        np.logical_not(orders['visitor_id'].isin(abnormal))\n",
    "    )]['revenue'].mean() / orders[np.logical_and(\n",
    "        orders['group'] == 'A',\n",
    "        np.logical_not(orders['visitor_id'].isin(abnormal))\n",
    "    )]['revenue'].mean() - 1\n",
    ")*100))"
   ]
  },
  {
   "cell_type": "markdown",
   "id": "e24a6e95",
   "metadata": {},
   "source": [
    "The value of 0.798 tells us that there is no statistically significant difference in the average check between the groups. We confirm the null hypothesis.\n",
    "\n",
    "A value of -2%, on the other hand, indicates that the average check of group B is slightly less than that of group A, by 2%.\n",
    "\n",
    "`Notes`\n",
    "\n",
    "- Thus, we can conclude that there is no statistically significant difference in the average check between groups A and B, except for a small difference of 2%. However, this small difference can be of practical importance if it is multiplied by a large number of orders."
   ]
  },
  {
   "cell_type": "markdown",
   "id": "195a0a0e",
   "metadata": {},
   "source": [
    "### General conclusion:\n",
    "\n",
    "1. Prioritization of hypotheses.\n",
    "\n",
    "It is recommended to be guided by the results of hypotheses prioritization based on the RICE method.\n",
    "Top three hypotheses:\n",
    "- Add a subscription form to all main pages to build a customer base for email newsletters\n",
    "- Add product recommendation blocks to the online store website to increase conversion and average check of the order\n",
    "- Add two new channels to attract traffic, which will attract 30% more users\n",
    "\n",
    "2. A / B test.\n",
    "\n",
    "It is recommended that the test be stopped and, with great caution, group B be declared the winner if this is acceptable only on the basis that the average number of orders in group B is 16.9% higher than group A.\n",
    "It is important to note that group B is inferior to group A in terms of the size of the average check. Check B is relatively less than A by 2%. This means that as a result of the test, the average check in group B decreased.\n",
    "\n",
    "Probably, such a test result appeared due to incorrect input data: overlapping orders in groups, which in total accounted for more than 15% of revenue for the test period, and the lack of data on unique visitors, which also prevents a correct comparison of the average number of orders for each group."
   ]
  }
 ],
 "metadata": {
  "ExecuteTimeLog": [
   {
    "duration": 1192,
    "start_time": "2023-04-18T18:04:26.475Z"
   },
   {
    "duration": 202,
    "start_time": "2023-04-18T18:04:27.669Z"
   },
   {
    "duration": 24,
    "start_time": "2023-04-18T18:04:27.873Z"
   },
   {
    "duration": 8,
    "start_time": "2023-04-18T18:04:27.898Z"
   },
   {
    "duration": 8,
    "start_time": "2023-04-18T18:04:27.908Z"
   },
   {
    "duration": 8,
    "start_time": "2023-04-18T18:04:27.918Z"
   },
   {
    "duration": 17,
    "start_time": "2023-04-18T18:04:27.928Z"
   },
   {
    "duration": 12,
    "start_time": "2023-04-18T18:04:27.948Z"
   },
   {
    "duration": 20,
    "start_time": "2023-04-18T18:04:27.962Z"
   },
   {
    "duration": 39,
    "start_time": "2023-04-18T18:04:27.983Z"
   },
   {
    "duration": 25,
    "start_time": "2023-04-18T18:04:28.024Z"
   },
   {
    "duration": 17,
    "start_time": "2023-04-18T18:04:28.051Z"
   },
   {
    "duration": 28,
    "start_time": "2023-04-18T18:04:28.070Z"
   },
   {
    "duration": 21,
    "start_time": "2023-04-18T18:04:28.101Z"
   },
   {
    "duration": 60,
    "start_time": "2023-04-18T18:04:28.124Z"
   },
   {
    "duration": 16,
    "start_time": "2023-04-18T18:04:28.186Z"
   },
   {
    "duration": 41,
    "start_time": "2023-04-18T18:04:28.204Z"
   },
   {
    "duration": 45,
    "start_time": "2023-04-18T18:04:28.247Z"
   },
   {
    "duration": 370,
    "start_time": "2023-04-18T18:04:28.293Z"
   },
   {
    "duration": 423,
    "start_time": "2023-04-18T18:04:28.665Z"
   },
   {
    "duration": 227,
    "start_time": "2023-04-18T18:04:29.090Z"
   },
   {
    "duration": 332,
    "start_time": "2023-04-18T18:04:29.320Z"
   },
   {
    "duration": 238,
    "start_time": "2023-04-18T18:04:29.654Z"
   },
   {
    "duration": 330,
    "start_time": "2023-04-18T18:04:29.894Z"
   },
   {
    "duration": 141,
    "start_time": "2023-04-18T18:04:30.226Z"
   },
   {
    "duration": 4,
    "start_time": "2023-04-18T18:04:30.369Z"
   },
   {
    "duration": 196,
    "start_time": "2023-04-18T18:04:30.377Z"
   },
   {
    "duration": 7,
    "start_time": "2023-04-18T18:04:30.575Z"
   },
   {
    "duration": 216,
    "start_time": "2023-04-18T18:04:30.584Z"
   },
   {
    "duration": 22,
    "start_time": "2023-04-18T18:04:30.802Z"
   },
   {
    "duration": 247,
    "start_time": "2023-04-18T18:04:30.826Z"
   },
   {
    "duration": 5,
    "start_time": "2023-04-18T18:04:31.075Z"
   },
   {
    "duration": 88,
    "start_time": "2023-04-18T18:04:31.082Z"
   },
   {
    "duration": 124,
    "start_time": "2023-04-18T18:04:31.172Z"
   },
   {
    "duration": 31,
    "start_time": "2023-04-18T18:04:31.298Z"
   },
   {
    "duration": 16,
    "start_time": "2023-04-18T18:04:31.331Z"
   },
   {
    "duration": 61,
    "start_time": "2023-04-18T18:04:31.348Z"
   },
   {
    "duration": 152,
    "start_time": "2023-04-18T18:04:31.411Z"
   },
   {
    "duration": 0,
    "start_time": "2023-04-18T18:04:31.565Z"
   },
   {
    "duration": 20,
    "start_time": "2023-04-18T18:10:41.920Z"
   },
   {
    "duration": 1279,
    "start_time": "2023-04-20T11:37:10.489Z"
   },
   {
    "duration": 227,
    "start_time": "2023-04-20T11:37:11.770Z"
   },
   {
    "duration": 28,
    "start_time": "2023-04-20T11:37:11.999Z"
   },
   {
    "duration": 50,
    "start_time": "2023-04-20T11:37:12.030Z"
   },
   {
    "duration": 52,
    "start_time": "2023-04-20T11:37:12.082Z"
   },
   {
    "duration": 50,
    "start_time": "2023-04-20T11:37:12.135Z"
   },
   {
    "duration": 21,
    "start_time": "2023-04-20T11:37:12.187Z"
   },
   {
    "duration": 50,
    "start_time": "2023-04-20T11:37:12.210Z"
   },
   {
    "duration": 39,
    "start_time": "2023-04-20T11:37:12.261Z"
   },
   {
    "duration": 59,
    "start_time": "2023-04-20T11:37:12.303Z"
   },
   {
    "duration": 54,
    "start_time": "2023-04-20T11:37:12.364Z"
   },
   {
    "duration": 44,
    "start_time": "2023-04-20T11:37:12.420Z"
   },
   {
    "duration": 42,
    "start_time": "2023-04-20T11:37:12.467Z"
   },
   {
    "duration": 40,
    "start_time": "2023-04-20T11:37:12.511Z"
   },
   {
    "duration": 42,
    "start_time": "2023-04-20T11:37:12.553Z"
   },
   {
    "duration": 24,
    "start_time": "2023-04-20T11:37:12.597Z"
   },
   {
    "duration": 49,
    "start_time": "2023-04-20T11:37:12.623Z"
   },
   {
    "duration": 26,
    "start_time": "2023-04-20T11:37:12.674Z"
   },
   {
    "duration": 94,
    "start_time": "2023-04-20T11:37:12.702Z"
   },
   {
    "duration": 298,
    "start_time": "2023-04-20T11:37:12.798Z"
   },
   {
    "duration": 315,
    "start_time": "2023-04-20T11:37:13.098Z"
   },
   {
    "duration": 223,
    "start_time": "2023-04-20T11:37:13.417Z"
   },
   {
    "duration": 333,
    "start_time": "2023-04-20T11:37:13.642Z"
   },
   {
    "duration": 245,
    "start_time": "2023-04-20T11:37:13.977Z"
   },
   {
    "duration": 315,
    "start_time": "2023-04-20T11:37:14.223Z"
   },
   {
    "duration": 154,
    "start_time": "2023-04-20T11:37:14.540Z"
   },
   {
    "duration": 4,
    "start_time": "2023-04-20T11:37:14.696Z"
   },
   {
    "duration": 182,
    "start_time": "2023-04-20T11:37:14.704Z"
   },
   {
    "duration": 5,
    "start_time": "2023-04-20T11:37:14.887Z"
   },
   {
    "duration": 184,
    "start_time": "2023-04-20T11:37:14.893Z"
   },
   {
    "duration": 11,
    "start_time": "2023-04-20T11:37:15.079Z"
   },
   {
    "duration": 274,
    "start_time": "2023-04-20T11:37:15.092Z"
   },
   {
    "duration": 4,
    "start_time": "2023-04-20T11:37:15.368Z"
   },
   {
    "duration": 48,
    "start_time": "2023-04-20T11:37:15.374Z"
   },
   {
    "duration": 49,
    "start_time": "2023-04-20T11:37:15.424Z"
   },
   {
    "duration": 90,
    "start_time": "2023-04-20T11:37:15.475Z"
   },
   {
    "duration": 49,
    "start_time": "2023-04-20T11:37:15.567Z"
   },
   {
    "duration": 61,
    "start_time": "2023-04-20T11:37:15.617Z"
   },
   {
    "duration": 40,
    "start_time": "2023-04-20T11:37:15.680Z"
   },
   {
    "duration": 47,
    "start_time": "2023-04-20T11:37:15.721Z"
   },
   {
    "duration": 14,
    "start_time": "2023-04-20T11:37:15.770Z"
   }
  ],
  "kernelspec": {
   "display_name": "Python 3 (ipykernel)",
   "language": "python",
   "name": "python3"
  },
  "language_info": {
   "codemirror_mode": {
    "name": "ipython",
    "version": 3
   },
   "file_extension": ".py",
   "mimetype": "text/x-python",
   "name": "python",
   "nbconvert_exporter": "python",
   "pygments_lexer": "ipython3",
   "version": "3.9.13"
  },
  "toc": {
   "base_numbering": 1,
   "nav_menu": {},
   "number_sections": true,
   "sideBar": true,
   "skip_h1_title": true,
   "title_cell": "Table of Contents",
   "title_sidebar": "Contents",
   "toc_cell": false,
   "toc_position": {},
   "toc_section_display": true,
   "toc_window_display": false
  }
 },
 "nbformat": 4,
 "nbformat_minor": 5
}
